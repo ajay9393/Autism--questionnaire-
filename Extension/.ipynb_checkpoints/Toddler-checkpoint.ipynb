{
 "cells": [
  {
   "cell_type": "code",
   "execution_count": 1,
   "metadata": {},
   "outputs": [],
   "source": [
    "import warnings\n",
    "warnings.filterwarnings('ignore')"
   ]
  },
  {
   "cell_type": "code",
   "execution_count": 2,
   "metadata": {},
   "outputs": [],
   "source": [
    "import numpy as np\n",
    "import pandas as pd\n",
    "import matplotlib.pyplot as plt\n",
    "%matplotlib inline\n",
    "import seaborn as sns"
   ]
  },
  {
   "cell_type": "code",
   "execution_count": 3,
   "metadata": {},
   "outputs": [
    {
     "data": {
      "text/html": [
       "<div>\n",
       "<style scoped>\n",
       "    .dataframe tbody tr th:only-of-type {\n",
       "        vertical-align: middle;\n",
       "    }\n",
       "\n",
       "    .dataframe tbody tr th {\n",
       "        vertical-align: top;\n",
       "    }\n",
       "\n",
       "    .dataframe thead th {\n",
       "        text-align: right;\n",
       "    }\n",
       "</style>\n",
       "<table border=\"1\" class=\"dataframe\">\n",
       "  <thead>\n",
       "    <tr style=\"text-align: right;\">\n",
       "      <th></th>\n",
       "      <th>Case_No</th>\n",
       "      <th>A1</th>\n",
       "      <th>A2</th>\n",
       "      <th>A3</th>\n",
       "      <th>A4</th>\n",
       "      <th>A5</th>\n",
       "      <th>A6</th>\n",
       "      <th>A7</th>\n",
       "      <th>A8</th>\n",
       "      <th>A9</th>\n",
       "      <th>A10</th>\n",
       "      <th>Age_Mons</th>\n",
       "      <th>Qchat-10-Score</th>\n",
       "      <th>Sex</th>\n",
       "      <th>Ethnicity</th>\n",
       "      <th>Jaundice</th>\n",
       "      <th>Family_mem_with_ASD</th>\n",
       "      <th>Who completed the test</th>\n",
       "      <th>Class/ASD Traits</th>\n",
       "    </tr>\n",
       "  </thead>\n",
       "  <tbody>\n",
       "    <tr>\n",
       "      <th>0</th>\n",
       "      <td>1</td>\n",
       "      <td>0</td>\n",
       "      <td>0</td>\n",
       "      <td>0</td>\n",
       "      <td>0</td>\n",
       "      <td>0</td>\n",
       "      <td>0</td>\n",
       "      <td>1</td>\n",
       "      <td>1</td>\n",
       "      <td>0</td>\n",
       "      <td>1</td>\n",
       "      <td>28</td>\n",
       "      <td>3</td>\n",
       "      <td>f</td>\n",
       "      <td>middle eastern</td>\n",
       "      <td>yes</td>\n",
       "      <td>no</td>\n",
       "      <td>family member</td>\n",
       "      <td>No</td>\n",
       "    </tr>\n",
       "    <tr>\n",
       "      <th>1</th>\n",
       "      <td>2</td>\n",
       "      <td>1</td>\n",
       "      <td>1</td>\n",
       "      <td>0</td>\n",
       "      <td>0</td>\n",
       "      <td>0</td>\n",
       "      <td>1</td>\n",
       "      <td>1</td>\n",
       "      <td>0</td>\n",
       "      <td>0</td>\n",
       "      <td>0</td>\n",
       "      <td>36</td>\n",
       "      <td>4</td>\n",
       "      <td>m</td>\n",
       "      <td>White European</td>\n",
       "      <td>yes</td>\n",
       "      <td>no</td>\n",
       "      <td>family member</td>\n",
       "      <td>Yes</td>\n",
       "    </tr>\n",
       "    <tr>\n",
       "      <th>2</th>\n",
       "      <td>3</td>\n",
       "      <td>1</td>\n",
       "      <td>0</td>\n",
       "      <td>0</td>\n",
       "      <td>0</td>\n",
       "      <td>0</td>\n",
       "      <td>0</td>\n",
       "      <td>1</td>\n",
       "      <td>1</td>\n",
       "      <td>0</td>\n",
       "      <td>1</td>\n",
       "      <td>36</td>\n",
       "      <td>4</td>\n",
       "      <td>m</td>\n",
       "      <td>middle eastern</td>\n",
       "      <td>yes</td>\n",
       "      <td>no</td>\n",
       "      <td>family member</td>\n",
       "      <td>Yes</td>\n",
       "    </tr>\n",
       "    <tr>\n",
       "      <th>3</th>\n",
       "      <td>4</td>\n",
       "      <td>1</td>\n",
       "      <td>1</td>\n",
       "      <td>1</td>\n",
       "      <td>1</td>\n",
       "      <td>1</td>\n",
       "      <td>1</td>\n",
       "      <td>1</td>\n",
       "      <td>1</td>\n",
       "      <td>1</td>\n",
       "      <td>1</td>\n",
       "      <td>24</td>\n",
       "      <td>10</td>\n",
       "      <td>m</td>\n",
       "      <td>Hispanic</td>\n",
       "      <td>no</td>\n",
       "      <td>no</td>\n",
       "      <td>family member</td>\n",
       "      <td>Yes</td>\n",
       "    </tr>\n",
       "    <tr>\n",
       "      <th>4</th>\n",
       "      <td>5</td>\n",
       "      <td>1</td>\n",
       "      <td>1</td>\n",
       "      <td>0</td>\n",
       "      <td>1</td>\n",
       "      <td>1</td>\n",
       "      <td>1</td>\n",
       "      <td>1</td>\n",
       "      <td>1</td>\n",
       "      <td>1</td>\n",
       "      <td>1</td>\n",
       "      <td>20</td>\n",
       "      <td>9</td>\n",
       "      <td>f</td>\n",
       "      <td>White European</td>\n",
       "      <td>no</td>\n",
       "      <td>yes</td>\n",
       "      <td>family member</td>\n",
       "      <td>Yes</td>\n",
       "    </tr>\n",
       "  </tbody>\n",
       "</table>\n",
       "</div>"
      ],
      "text/plain": [
       "   Case_No  A1  A2  A3  A4  A5  A6  A7  A8  A9  A10  Age_Mons  Qchat-10-Score  \\\n",
       "0        1   0   0   0   0   0   0   1   1   0    1        28               3   \n",
       "1        2   1   1   0   0   0   1   1   0   0    0        36               4   \n",
       "2        3   1   0   0   0   0   0   1   1   0    1        36               4   \n",
       "3        4   1   1   1   1   1   1   1   1   1    1        24              10   \n",
       "4        5   1   1   0   1   1   1   1   1   1    1        20               9   \n",
       "\n",
       "  Sex       Ethnicity Jaundice Family_mem_with_ASD Who completed the test  \\\n",
       "0   f  middle eastern      yes                  no          family member   \n",
       "1   m  White European      yes                  no          family member   \n",
       "2   m  middle eastern      yes                  no          family member   \n",
       "3   m        Hispanic       no                  no          family member   \n",
       "4   f  White European       no                 yes          family member   \n",
       "\n",
       "  Class/ASD Traits   \n",
       "0                No  \n",
       "1               Yes  \n",
       "2               Yes  \n",
       "3               Yes  \n",
       "4               Yes  "
      ]
     },
     "execution_count": 3,
     "metadata": {},
     "output_type": "execute_result"
    }
   ],
   "source": [
    "data = pd.read_csv(\"data/archive-Toddler/Toddler Autism dataset July 2018.csv\")\n",
    "data.head()"
   ]
  },
  {
   "cell_type": "code",
   "execution_count": 4,
   "metadata": {},
   "outputs": [],
   "source": [
    "data = data.applymap(lambda x: np.nan if x == '?' else x)"
   ]
  },
  {
   "cell_type": "code",
   "execution_count": 5,
   "metadata": {},
   "outputs": [],
   "source": [
    "data = data.dropna()"
   ]
  },
  {
   "cell_type": "code",
   "execution_count": 6,
   "metadata": {},
   "outputs": [],
   "source": [
    "del data['Case_No']"
   ]
  },
  {
   "cell_type": "code",
   "execution_count": 7,
   "metadata": {},
   "outputs": [
    {
     "name": "stdout",
     "output_type": "stream",
     "text": [
      "<class 'pandas.core.frame.DataFrame'>\n",
      "Int64Index: 1054 entries, 0 to 1053\n",
      "Data columns (total 18 columns):\n",
      "A1                        1054 non-null int64\n",
      "A2                        1054 non-null int64\n",
      "A3                        1054 non-null int64\n",
      "A4                        1054 non-null int64\n",
      "A5                        1054 non-null int64\n",
      "A6                        1054 non-null int64\n",
      "A7                        1054 non-null int64\n",
      "A8                        1054 non-null int64\n",
      "A9                        1054 non-null int64\n",
      "A10                       1054 non-null int64\n",
      "Age_Mons                  1054 non-null int64\n",
      "Qchat-10-Score            1054 non-null int64\n",
      "Sex                       1054 non-null object\n",
      "Ethnicity                 1054 non-null object\n",
      "Jaundice                  1054 non-null object\n",
      "Family_mem_with_ASD       1054 non-null object\n",
      "Who completed the test    1054 non-null object\n",
      "Class/ASD Traits          1054 non-null object\n",
      "dtypes: int64(12), object(6)\n",
      "memory usage: 156.5+ KB\n"
     ]
    }
   ],
   "source": [
    "data.info()"
   ]
  },
  {
   "cell_type": "code",
   "execution_count": 9,
   "metadata": {},
   "outputs": [
    {
     "data": {
      "text/plain": [
       "<AxesSubplot:xlabel='Sex', ylabel='count'>"
      ]
     },
     "execution_count": 9,
     "metadata": {},
     "output_type": "execute_result"
    },
    {
     "data": {
      "image/png": "[encoded data removed]",
      "text/plain": [
       "<Figure size 432x288 with 1 Axes>"
      ]
     },
     "metadata": {
      "needs_background": "light"
     },
     "output_type": "display_data"
    }
   ],
   "source": [
    "sns.countplot(x=data['Sex'])"
   ]
  },
  {
   "cell_type": "code",
   "execution_count": 10,
   "metadata": {},
   "outputs": [
    {
     "data": {
      "text/plain": [
       "<AxesSubplot:xlabel='Ethnicity', ylabel='count'>"
      ]
     },
     "execution_count": 10,
     "metadata": {},
     "output_type": "execute_result"
    },
    {
     "data": {
      "image/png": "[encoded data removed]",
      "text/plain": [
       "<Figure size 432x288 with 1 Axes>"
      ]
     },
     "metadata": {
      "needs_background": "light"
     },
     "output_type": "display_data"
    }
   ],
   "source": [
    "sns.countplot(x=data['Ethnicity'])"
   ]
  },
  {
   "cell_type": "code",
   "execution_count": 11,
   "metadata": {},
   "outputs": [
    {
     "data": {
      "text/plain": [
       "White European    334\n",
       "asian             299\n",
       "middle eastern    188\n",
       "south asian        60\n",
       "black              53\n",
       "Hispanic           40\n",
       "Others             35\n",
       "Latino             26\n",
       "mixed               8\n",
       "Pacifica            8\n",
       "Native Indian       3\n",
       "Name: Ethnicity, dtype: int64"
      ]
     },
     "execution_count": 11,
     "metadata": {},
     "output_type": "execute_result"
    }
   ],
   "source": [
    "data['Ethnicity'].value_counts()"
   ]
  },
  {
   "cell_type": "code",
   "execution_count": 12,
   "metadata": {},
   "outputs": [
    {
     "data": {
      "text/plain": [
       "<AxesSubplot:xlabel='Jaundice', ylabel='count'>"
      ]
     },
     "execution_count": 12,
     "metadata": {},
     "output_type": "execute_result"
    },
    {
     "data": {
      "image/png": "[encoded data removed]",
      "text/plain": [
       "<Figure size 432x288 with 1 Axes>"
      ]
     },
     "metadata": {
      "needs_background": "light"
     },
     "output_type": "display_data"
    }
   ],
   "source": [
    "sns.countplot(x=data['Jaundice'])"
   ]
  },
  {
   "cell_type": "code",
   "execution_count": 13,
   "metadata": {},
   "outputs": [
    {
     "data": {
      "text/plain": [
       "<AxesSubplot:xlabel='Family_mem_with_ASD', ylabel='count'>"
      ]
     },
     "execution_count": 13,
     "metadata": {},
     "output_type": "execute_result"
    },
    {
     "data": {
      "image/png": "[encoded data removed]",
      "text/plain": [
       "<Figure size 432x288 with 1 Axes>"
      ]
     },
     "metadata": {
      "needs_background": "light"
     },
     "output_type": "display_data"
    }
   ],
   "source": [
    "sns.countplot(x=data['Family_mem_with_ASD'])"
   ]
  },
  {
   "cell_type": "code",
   "execution_count": 15,
   "metadata": {},
   "outputs": [
    {
     "data": {
      "text/plain": [
       "<AxesSubplot:xlabel='Who completed the test', ylabel='count'>"
      ]
     },
     "execution_count": 15,
     "metadata": {},
     "output_type": "execute_result"
    },
    {
     "data": {
      "image/png": "[encoded data removed]",
      "text/plain": [
       "<Figure size 432x288 with 1 Axes>"
      ]
     },
     "metadata": {
      "needs_background": "light"
     },
     "output_type": "display_data"
    }
   ],
   "source": [
    "sns.countplot(x=data['Who completed the test'])"
   ]
  },
  {
   "cell_type": "code",
   "execution_count": 16,
   "metadata": {},
   "outputs": [
    {
     "data": {
      "text/plain": [
       "family member               1018\n",
       "Health Care Professional      24\n",
       "Health care professional       5\n",
       "Self                           4\n",
       "Others                         3\n",
       "Name: Who completed the test, dtype: int64"
      ]
     },
     "execution_count": 16,
     "metadata": {},
     "output_type": "execute_result"
    }
   ],
   "source": [
    "data['Who completed the test'].value_counts()"
   ]
  },
  {
   "cell_type": "code",
   "execution_count": 7,
   "metadata": {},
   "outputs": [
    {
     "data": {
      "text/plain": [
       "<matplotlib.axes._subplots.AxesSubplot at 0x1c24d88af48>"
      ]
     },
     "execution_count": 7,
     "metadata": {},
     "output_type": "execute_result"
    },
    {
     "data": {
      "image/png": "[encoded data removed]",
      "text/plain": [
       "<Figure size 432x288 with 1 Axes>"
      ]
     },
     "metadata": {
      "needs_background": "light"
     },
     "output_type": "display_data"
    }
   ],
   "source": [
    "sns.countplot(x=data['Class/ASD Traits '])"
   ]
  },
  {
   "cell_type": "code",
   "execution_count": 8,
   "metadata": {},
   "outputs": [],
   "source": [
    "data.to_csv('toddler_processed.csv')"
   ]
  },
  {
   "cell_type": "code",
   "execution_count": 8,
   "metadata": {},
   "outputs": [
    {
     "data": {
      "text/plain": [
       "array([0, 1], dtype=int64)"
      ]
     },
     "execution_count": 8,
     "metadata": {},
     "output_type": "execute_result"
    }
   ],
   "source": [
    "# Import label encoder\n",
    "from sklearn import preprocessing\n",
    "\n",
    "# label_encoder object knows\n",
    "# how to understand word labels.\n",
    "label_encoder = preprocessing.LabelEncoder()\n",
    "\n",
    "# Encode labels in column 'species'.\n",
    "data['Sex']= label_encoder.fit_transform(data['Sex'])\n",
    "data['Ethnicity']= label_encoder.fit_transform(data['Ethnicity'])\n",
    "data['Jaundice']= label_encoder.fit_transform(data['Jaundice'])\n",
    "data['Family_mem_with_ASD']= label_encoder.fit_transform(data['Family_mem_with_ASD'])\n",
    "data['Who completed the test']= label_encoder.fit_transform(data['Who completed the test'])\n",
    "data['Class/ASD Traits ']= label_encoder.fit_transform(data['Class/ASD Traits '])\n",
    "\n",
    "\n",
    "data['Sex'].unique()\n",
    "data['Ethnicity'].unique()\n",
    "data['Jaundice'].unique()\n",
    "data['Family_mem_with_ASD'].unique()\n",
    "data['Who completed the test'].unique()\n",
    "data['Class/ASD Traits '].unique()\n"
   ]
  },
  {
   "cell_type": "code",
   "execution_count": 9,
   "metadata": {},
   "outputs": [
    {
     "data": {
      "text/html": [
       "<div>\n",
       "<style scoped>\n",
       "    .dataframe tbody tr th:only-of-type {\n",
       "        vertical-align: middle;\n",
       "    }\n",
       "\n",
       "    .dataframe tbody tr th {\n",
       "        vertical-align: top;\n",
       "    }\n",
       "\n",
       "    .dataframe thead th {\n",
       "        text-align: right;\n",
       "    }\n",
       "</style>\n",
       "<table border=\"1\" class=\"dataframe\">\n",
       "  <thead>\n",
       "    <tr style=\"text-align: right;\">\n",
       "      <th></th>\n",
       "      <th>A1</th>\n",
       "      <th>A2</th>\n",
       "      <th>A3</th>\n",
       "      <th>A4</th>\n",
       "      <th>A5</th>\n",
       "      <th>A6</th>\n",
       "      <th>A7</th>\n",
       "      <th>A8</th>\n",
       "      <th>A9</th>\n",
       "      <th>A10</th>\n",
       "      <th>Age_Mons</th>\n",
       "      <th>Qchat-10-Score</th>\n",
       "      <th>Sex</th>\n",
       "      <th>Ethnicity</th>\n",
       "      <th>Jaundice</th>\n",
       "      <th>Family_mem_with_ASD</th>\n",
       "      <th>Who completed the test</th>\n",
       "      <th>Class/ASD Traits</th>\n",
       "    </tr>\n",
       "  </thead>\n",
       "  <tbody>\n",
       "    <tr>\n",
       "      <td>0</td>\n",
       "      <td>0</td>\n",
       "      <td>0</td>\n",
       "      <td>0</td>\n",
       "      <td>0</td>\n",
       "      <td>0</td>\n",
       "      <td>0</td>\n",
       "      <td>1</td>\n",
       "      <td>1</td>\n",
       "      <td>0</td>\n",
       "      <td>1</td>\n",
       "      <td>28</td>\n",
       "      <td>3</td>\n",
       "      <td>0</td>\n",
       "      <td>8</td>\n",
       "      <td>1</td>\n",
       "      <td>0</td>\n",
       "      <td>4</td>\n",
       "      <td>0</td>\n",
       "    </tr>\n",
       "    <tr>\n",
       "      <td>1</td>\n",
       "      <td>1</td>\n",
       "      <td>1</td>\n",
       "      <td>0</td>\n",
       "      <td>0</td>\n",
       "      <td>0</td>\n",
       "      <td>1</td>\n",
       "      <td>1</td>\n",
       "      <td>0</td>\n",
       "      <td>0</td>\n",
       "      <td>0</td>\n",
       "      <td>36</td>\n",
       "      <td>4</td>\n",
       "      <td>1</td>\n",
       "      <td>5</td>\n",
       "      <td>1</td>\n",
       "      <td>0</td>\n",
       "      <td>4</td>\n",
       "      <td>1</td>\n",
       "    </tr>\n",
       "    <tr>\n",
       "      <td>2</td>\n",
       "      <td>1</td>\n",
       "      <td>0</td>\n",
       "      <td>0</td>\n",
       "      <td>0</td>\n",
       "      <td>0</td>\n",
       "      <td>0</td>\n",
       "      <td>1</td>\n",
       "      <td>1</td>\n",
       "      <td>0</td>\n",
       "      <td>1</td>\n",
       "      <td>36</td>\n",
       "      <td>4</td>\n",
       "      <td>1</td>\n",
       "      <td>8</td>\n",
       "      <td>1</td>\n",
       "      <td>0</td>\n",
       "      <td>4</td>\n",
       "      <td>1</td>\n",
       "    </tr>\n",
       "    <tr>\n",
       "      <td>3</td>\n",
       "      <td>1</td>\n",
       "      <td>1</td>\n",
       "      <td>1</td>\n",
       "      <td>1</td>\n",
       "      <td>1</td>\n",
       "      <td>1</td>\n",
       "      <td>1</td>\n",
       "      <td>1</td>\n",
       "      <td>1</td>\n",
       "      <td>1</td>\n",
       "      <td>24</td>\n",
       "      <td>10</td>\n",
       "      <td>1</td>\n",
       "      <td>0</td>\n",
       "      <td>0</td>\n",
       "      <td>0</td>\n",
       "      <td>4</td>\n",
       "      <td>1</td>\n",
       "    </tr>\n",
       "    <tr>\n",
       "      <td>4</td>\n",
       "      <td>1</td>\n",
       "      <td>1</td>\n",
       "      <td>0</td>\n",
       "      <td>1</td>\n",
       "      <td>1</td>\n",
       "      <td>1</td>\n",
       "      <td>1</td>\n",
       "      <td>1</td>\n",
       "      <td>1</td>\n",
       "      <td>1</td>\n",
       "      <td>20</td>\n",
       "      <td>9</td>\n",
       "      <td>0</td>\n",
       "      <td>5</td>\n",
       "      <td>0</td>\n",
       "      <td>1</td>\n",
       "      <td>4</td>\n",
       "      <td>1</td>\n",
       "    </tr>\n",
       "  </tbody>\n",
       "</table>\n",
       "</div>"
      ],
      "text/plain": [
       "   A1  A2  A3  A4  A5  A6  A7  A8  A9  A10  Age_Mons  Qchat-10-Score  Sex  \\\n",
       "0   0   0   0   0   0   0   1   1   0    1        28               3    0   \n",
       "1   1   1   0   0   0   1   1   0   0    0        36               4    1   \n",
       "2   1   0   0   0   0   0   1   1   0    1        36               4    1   \n",
       "3   1   1   1   1   1   1   1   1   1    1        24              10    1   \n",
       "4   1   1   0   1   1   1   1   1   1    1        20               9    0   \n",
       "\n",
       "   Ethnicity  Jaundice  Family_mem_with_ASD  Who completed the test  \\\n",
       "0          8         1                    0                       4   \n",
       "1          5         1                    0                       4   \n",
       "2          8         1                    0                       4   \n",
       "3          0         0                    0                       4   \n",
       "4          5         0                    1                       4   \n",
       "\n",
       "   Class/ASD Traits   \n",
       "0                  0  \n",
       "1                  1  \n",
       "2                  1  \n",
       "3                  1  \n",
       "4                  1  "
      ]
     },
     "execution_count": 9,
     "metadata": {},
     "output_type": "execute_result"
    }
   ],
   "source": [
    "data.head()"
   ]
  },
  {
   "cell_type": "code",
   "execution_count": 10,
   "metadata": {},
   "outputs": [
    {
     "data": {
      "image/png": "[encoded data removed]",
      "text/plain": [
       "<Figure size 1080x1080 with 2 Axes>"
      ]
     },
     "metadata": {
      "needs_background": "light"
     },
     "output_type": "display_data"
    }
   ],
   "source": [
    "plt.figure(figsize=(15,15))\n",
    "sns.heatmap(data.corr(), annot=True)\n",
    "plt.show()"
   ]
  },
  {
   "cell_type": "code",
   "execution_count": 11,
   "metadata": {},
   "outputs": [],
   "source": [
    "X = data.drop([\"Class/ASD Traits \"],axis =1)\n",
    "y = data[\"Class/ASD Traits \"]"
   ]
  },
  {
   "cell_type": "markdown",
   "metadata": {},
   "source": [
    "# Quantile Transformer"
   ]
  },
  {
   "cell_type": "code",
   "execution_count": 12,
   "metadata": {},
   "outputs": [],
   "source": [
    "from sklearn.preprocessing import QuantileTransformer\n",
    "qt = QuantileTransformer(n_quantiles=10, random_state=0)\n",
    "X_new = qt.fit_transform(X)"
   ]
  },
  {
   "cell_type": "code",
   "execution_count": 13,
   "metadata": {},
   "outputs": [
    {
     "data": {
      "text/plain": [
       "((843, 17), (843,), (211, 17), (211,))"
      ]
     },
     "execution_count": 13,
     "metadata": {},
     "output_type": "execute_result"
    }
   ],
   "source": [
    "from sklearn.model_selection import train_test_split\n",
    "\n",
    "X_train, X_test, y_train, y_test = train_test_split(X_new, y, test_size = 0.2, random_state = 42)\n",
    "X_train.shape, y_train.shape, X_test.shape, y_test.shape"
   ]
  },
  {
   "cell_type": "code",
   "execution_count": 14,
   "metadata": {},
   "outputs": [],
   "source": [
    "from sklearn.metrics import log_loss, roc_auc_score, matthews_corrcoef, cohen_kappa_score, accuracy_score, precision_score, recall_score, f1_score"
   ]
  },
  {
   "cell_type": "code",
   "execution_count": 15,
   "metadata": {},
   "outputs": [],
   "source": [
    "ML_Model = []\n",
    "accuracy = []\n",
    "roc = []\n",
    "precision = []\n",
    "recall = []\n",
    "f1_scorea = []\n",
    "mcc = []\n",
    "kappa = []\n",
    "loga = []\n",
    "\n",
    "#function to call for storing the results\n",
    "def storeResults(model, a,b,c,d,e,f,g,h):\n",
    "    ML_Model.append(model)\n",
    "    accuracy.append(round(a, 3))\n",
    "    roc.append(round(b, 3))\n",
    "    precision.append(round(c, 3))\n",
    "    recall.append(round(d, 3))\n",
    "    f1_scorea.append(round(e,3))\n",
    "    mcc.append(round(f,3))\n",
    "    kappa.append(round(g,3))\n",
    "    loga.append(round(h,3))\n"
   ]
  },
  {
   "cell_type": "code",
   "execution_count": 16,
   "metadata": {},
   "outputs": [],
   "source": [
    "ML_Model1 = []\n",
    "accuracy1 = []\n",
    "roc1 = []\n",
    "precision1 = []\n",
    "recall1 = []\n",
    "f1_score1 = []\n",
    "mcc1 = []\n",
    "kappa1 = []\n",
    "log1 = []\n",
    "\n",
    "#function to call for storing the results\n",
    "def storeResults1(model, a,b,c,d,e,f,g,h):\n",
    "    ML_Model1.append(model)\n",
    "    accuracy1.append(round(a, 3))\n",
    "    roc1.append(round(b, 3))\n",
    "    precision1.append(round(c, 3))\n",
    "    recall1.append(round(d, 3))\n",
    "    f1_score1.append(round(e,3))\n",
    "    mcc1.append(round(f,3))\n",
    "    kappa1.append(round(g,3))\n",
    "    log1.append(round(h,3))\n"
   ]
  },
  {
   "cell_type": "code",
   "execution_count": 17,
   "metadata": {},
   "outputs": [],
   "source": [
    "ML_Model2 = []\n",
    "accuracy2 = []\n",
    "roc2 = []\n",
    "precision2 = []\n",
    "recall2 = []\n",
    "f1_score2 = []\n",
    "mcc2 = []\n",
    "kappa2 = []\n",
    "log2 = []\n",
    "\n",
    "#function to call for storing the results\n",
    "def storeResults2(model, a,b,c,d,e,f,g,h):\n",
    "    ML_Model2.append(model)\n",
    "    accuracy2.append(round(a, 3))\n",
    "    roc2.append(round(b, 3))\n",
    "    precision2.append(round(c, 3))\n",
    "    recall2.append(round(d, 3))\n",
    "    f1_score2.append(round(e,3))\n",
    "    mcc2.append(round(f,3))\n",
    "    kappa2.append(round(g,3))\n",
    "    log2.append(round(h,3))\n"
   ]
  },
  {
   "cell_type": "code",
   "execution_count": 18,
   "metadata": {},
   "outputs": [],
   "source": [
    "ML_Model3 = []\n",
    "accuracy3 = []\n",
    "roc3 = []\n",
    "precision3 = []\n",
    "recall3 = []\n",
    "f1_score3 = []\n",
    "mcc3 = []\n",
    "kappa3 = []\n",
    "log3 = []\n",
    "\n",
    "#function to call for storing the results\n",
    "def storeResults3(model, a,b,c,d,e,f,g,h):\n",
    "    ML_Model3.append(model)\n",
    "    accuracy3.append(round(a, 3))\n",
    "    roc3.append(round(b, 3))\n",
    "    precision3.append(round(c, 3))\n",
    "    recall3.append(round(d, 3))\n",
    "    f1_score3.append(round(e,3))\n",
    "    mcc3.append(round(f,3))\n",
    "    kappa3.append(round(g,3))\n",
    "    log3.append(round(h,3))\n"
   ]
  },
  {
   "cell_type": "markdown",
   "metadata": {},
   "source": [
    "# AdaBoost Classifier"
   ]
  },
  {
   "cell_type": "code",
   "execution_count": 19,
   "metadata": {},
   "outputs": [],
   "source": [
    "from sklearn.ensemble import AdaBoostClassifier\n",
    "\n",
    "# instantiate the model \n",
    "ab = AdaBoostClassifier(n_estimators=100, random_state=0)\n",
    "\n",
    "# fit the model \n",
    "ab.fit(X_train, y_train)\n",
    "\n",
    "y_pred = ab.predict(X_test)\n",
    "y_prob = ab.predict_proba(X_test)\n",
    "\n",
    "ab_acc_a = accuracy_score(y_pred, y_test)\n",
    "ab_roc_a = roc_auc_score(y_pred, y_test)\n",
    "ab_prec_a = precision_score(y_pred, y_test)\n",
    "ab_rec_a = recall_score(y_pred, y_test)\n",
    "ab_f1_a = f1_score(y_pred, y_test)\n",
    "ab_mcc_a = matthews_corrcoef(y_pred, y_test)\n",
    "ab_kap_a = cohen_kappa_score(y_pred, y_test)\n",
    "ab_log_a = log_loss(y_pred, y_test)"
   ]
  },
  {
   "cell_type": "code",
   "execution_count": 20,
   "metadata": {},
   "outputs": [],
   "source": [
    "storeResults('AdaBoost Classifier',ab_acc_a,ab_roc_a,ab_prec_a,ab_rec_a,ab_f1_a,ab_mcc_a,ab_kap_a,ab_log_a)"
   ]
  },
  {
   "cell_type": "markdown",
   "metadata": {},
   "source": [
    "# Random Forest"
   ]
  },
  {
   "cell_type": "code",
   "execution_count": 21,
   "metadata": {},
   "outputs": [],
   "source": [
    "from sklearn.ensemble import RandomForestClassifier\n",
    "\n",
    "# instantiate the model \n",
    "rf = RandomForestClassifier(n_estimators=100, random_state=0)\n",
    "\n",
    "# fit the model \n",
    "rf.fit(X_train, y_train)\n",
    "\n",
    "y_pred = rf.predict(X_test)\n",
    "y_prob = rf.predict_proba(X_test)\n",
    "\n",
    "rf_acc_a = accuracy_score(y_pred, y_test)\n",
    "rf_roc_a = roc_auc_score(y_pred, y_test)\n",
    "rf_prec_a = precision_score(y_pred, y_test)\n",
    "rf_rec_a = recall_score(y_pred, y_test)\n",
    "rf_f1_a = f1_score(y_pred, y_test)\n",
    "rf_mcc_a = matthews_corrcoef(y_pred, y_test)\n",
    "rf_kap_a = cohen_kappa_score(y_pred, y_test)\n",
    "rf_log_a = log_loss(y_pred, y_test)"
   ]
  },
  {
   "cell_type": "code",
   "execution_count": 22,
   "metadata": {},
   "outputs": [],
   "source": [
    "storeResults('Ransom Forest Classifier',rf_acc_a,rf_roc_a,rf_prec_a,rf_rec_a,rf_f1_a,rf_mcc_a,rf_kap_a,rf_log_a)"
   ]
  },
  {
   "cell_type": "markdown",
   "metadata": {},
   "source": [
    "# Decision Tree"
   ]
  },
  {
   "cell_type": "code",
   "execution_count": 23,
   "metadata": {},
   "outputs": [],
   "source": [
    "from sklearn.tree import DecisionTreeClassifier\n",
    "\n",
    "# instantiate the model \n",
    "tree = DecisionTreeClassifier(max_depth=30)\n",
    "\n",
    "# fit the model \n",
    "tree.fit(X_train, y_train)\n",
    "\n",
    "y_pred = tree.predict(X_test)\n",
    "y_prob = tree.predict_proba(X_test)\n",
    "\n",
    "dt_acc_a = accuracy_score(y_pred, y_test)\n",
    "dt_roc_a = roc_auc_score(y_pred, y_test)\n",
    "dt_prec_a = precision_score(y_pred, y_test)\n",
    "dt_rec_a = recall_score(y_pred, y_test)\n",
    "dt_f1_a = f1_score(y_pred, y_test)\n",
    "dt_mcc_a = matthews_corrcoef(y_pred, y_test)\n",
    "dt_kap_a = cohen_kappa_score(y_pred, y_test)\n",
    "dt_log_a = log_loss(y_pred, y_test)"
   ]
  },
  {
   "cell_type": "code",
   "execution_count": 24,
   "metadata": {},
   "outputs": [],
   "source": [
    "storeResults('Decision Tree Classifier',dt_acc_a,dt_roc_a,dt_prec_a,dt_rec_a,dt_f1_a,dt_mcc_a,dt_kap_a,dt_log_a)"
   ]
  },
  {
   "cell_type": "markdown",
   "metadata": {},
   "source": [
    "# KNN"
   ]
  },
  {
   "cell_type": "code",
   "execution_count": 25,
   "metadata": {},
   "outputs": [],
   "source": [
    "from sklearn.neighbors import KNeighborsClassifier\n",
    "#from sklearn.pipeline import Pipeline\n",
    "\n",
    "# instantiate the model\n",
    "knn = KNeighborsClassifier(n_neighbors=3)\n",
    "\n",
    "# fit the model \n",
    "knn.fit(X_train,y_train)\n",
    "\n",
    "y_pred = knn.predict(X_test)\n",
    "y_prob = knn.predict_proba(X_test)\n",
    "\n",
    "knn_acc_a = accuracy_score(y_pred, y_test)\n",
    "knn_roc_a = roc_auc_score(y_pred, y_test)\n",
    "knn_prec_a = precision_score(y_pred, y_test)\n",
    "knn_rec_a = recall_score(y_pred, y_test)\n",
    "knn_f1_a = f1_score(y_pred, y_test)\n",
    "knn_mcc_a = matthews_corrcoef(y_pred, y_test)\n",
    "knn_kap_a = cohen_kappa_score(y_pred, y_test)\n",
    "knn_log_a = log_loss(y_pred, y_test)"
   ]
  },
  {
   "cell_type": "code",
   "execution_count": 26,
   "metadata": {},
   "outputs": [],
   "source": [
    "storeResults('KNN',knn_acc_a,knn_roc_a,knn_prec_a,knn_rec_a,knn_f1_a,knn_mcc_a,knn_kap_a,knn_log_a)"
   ]
  },
  {
   "cell_type": "markdown",
   "metadata": {},
   "source": [
    "# Naive Bayes"
   ]
  },
  {
   "cell_type": "code",
   "execution_count": 27,
   "metadata": {},
   "outputs": [],
   "source": [
    "from sklearn.naive_bayes import GaussianNB\n",
    "#from sklearn.pipeline import Pipeline\n",
    "\n",
    "# instantiate the model\n",
    "nb=  GaussianNB()\n",
    "\n",
    "# fit the model \n",
    "nb.fit(X_train,y_train)\n",
    "\n",
    "y_pred = nb.predict(X_test)\n",
    "y_prob = nb.predict_proba(X_test)\n",
    "\n",
    "nb_acc_a = accuracy_score(y_pred, y_test)\n",
    "nb_roc_a = roc_auc_score(y_pred, y_test)\n",
    "nb_prec_a = precision_score(y_pred, y_test)\n",
    "nb_rec_a = recall_score(y_pred, y_test)\n",
    "nb_f1_a = f1_score(y_pred, y_test)\n",
    "nb_mcc_a = matthews_corrcoef(y_pred, y_test)\n",
    "nb_kap_a = cohen_kappa_score(y_pred, y_test)\n",
    "nb_log_a = log_loss(y_pred, y_test)"
   ]
  },
  {
   "cell_type": "code",
   "execution_count": 28,
   "metadata": {},
   "outputs": [],
   "source": [
    "storeResults('Naive Bayes',nb_acc_a,nb_roc_a,nb_prec_a,nb_rec_a,nb_f1_a,nb_mcc_a,nb_kap_a,nb_log_a)"
   ]
  },
  {
   "cell_type": "markdown",
   "metadata": {},
   "source": [
    "# Logistic Regression"
   ]
  },
  {
   "cell_type": "code",
   "execution_count": 29,
   "metadata": {},
   "outputs": [],
   "source": [
    "# Logistic Regression model \n",
    "from sklearn.linear_model import LogisticRegression\n",
    "#from sklearn.pipeline import Pipeline\n",
    "\n",
    "# instantiate the model\n",
    "log = LogisticRegression()\n",
    "\n",
    "# fit the model \n",
    "log.fit(X_train,y_train)\n",
    "\n",
    "y_pred = log.predict(X_test)\n",
    "y_prob = log.predict_proba(X_test)\n",
    "\n",
    "lr_acc_a = accuracy_score(y_pred, y_test)\n",
    "lr_roc_a = roc_auc_score(y_pred, y_test)\n",
    "lr_prec_a = precision_score(y_pred, y_test)\n",
    "lr_rec_a = recall_score(y_pred, y_test)\n",
    "lr_f1_a = f1_score(y_pred, y_test)\n",
    "lr_mcc_a = matthews_corrcoef(y_pred, y_test)\n",
    "lr_kap_a = cohen_kappa_score(y_pred, y_test)\n",
    "lr_log_a = log_loss(y_pred, y_test)"
   ]
  },
  {
   "cell_type": "code",
   "execution_count": 30,
   "metadata": {},
   "outputs": [],
   "source": [
    "storeResults('Logistic Regression',lr_acc_a,lr_roc_a,lr_prec_a,lr_rec_a,lr_f1_a,lr_mcc_a,lr_kap_a,lr_log_a)"
   ]
  },
  {
   "cell_type": "markdown",
   "metadata": {},
   "source": [
    "# SVM"
   ]
  },
  {
   "cell_type": "code",
   "execution_count": 31,
   "metadata": {},
   "outputs": [],
   "source": [
    "from sklearn.svm import SVC\n",
    "svc = SVC()\n",
    "\n",
    "# fitting the model for grid search\n",
    "svc.fit(X_train, y_train)\n",
    "\n",
    "y_pred = svc.predict(X_test)\n",
    "#y_prob = svc.predict_proba(X_test)\n",
    "\n",
    "svc_acc_a = accuracy_score(y_pred, y_test)\n",
    "svc_roc_a = roc_auc_score(y_pred, y_test)\n",
    "svc_prec_a = precision_score(y_pred, y_test)\n",
    "svc_rec_a = recall_score(y_pred, y_test)\n",
    "svc_f1_a = f1_score(y_pred, y_test)\n",
    "svc_mcc_a = matthews_corrcoef(y_pred, y_test)\n",
    "svc_kap_a = cohen_kappa_score(y_pred, y_test)\n",
    "svc_log_a = log_loss(y_pred, y_test)"
   ]
  },
  {
   "cell_type": "code",
   "execution_count": 32,
   "metadata": {},
   "outputs": [],
   "source": [
    "storeResults('SVC',svc_acc_a,svc_roc_a,svc_prec_a,svc_rec_a,svc_f1_a,svc_mcc_a,svc_kap_a,svc_log_a)"
   ]
  },
  {
   "cell_type": "markdown",
   "metadata": {},
   "source": [
    "# LDA"
   ]
  },
  {
   "cell_type": "code",
   "execution_count": 33,
   "metadata": {},
   "outputs": [],
   "source": [
    "from sklearn.discriminant_analysis import LinearDiscriminantAnalysis\n",
    "\n",
    "clf = LinearDiscriminantAnalysis()\n",
    "\n",
    "# fitting the model for grid search\n",
    "clf.fit(X_train, y_train)\n",
    "\n",
    "y_pred = clf.predict(X_test)\n",
    "#y_prob = svc.predict_proba(X_test)\n",
    "\n",
    "lda_acc_a = accuracy_score(y_pred, y_test)\n",
    "lda_roc_a = roc_auc_score(y_pred, y_test)\n",
    "lda_prec_a = precision_score(y_pred, y_test)\n",
    "lda_rec_a = recall_score(y_pred, y_test)\n",
    "lda_f1_a = f1_score(y_pred, y_test)\n",
    "lda_mcc_a = matthews_corrcoef(y_pred, y_test)\n",
    "lda_kap_a = cohen_kappa_score(y_pred, y_test)\n",
    "lda_log_a = log_loss(y_pred, y_test)"
   ]
  },
  {
   "cell_type": "code",
   "execution_count": 34,
   "metadata": {},
   "outputs": [],
   "source": [
    "storeResults('LDA',lda_acc_a,lda_roc_a,lda_prec_a,lda_rec_a,lda_f1_a,lda_mcc_a,lda_kap_a,lda_log_a)"
   ]
  },
  {
   "cell_type": "markdown",
   "metadata": {},
   "source": [
    "# Voting Classifier"
   ]
  },
  {
   "cell_type": "code",
   "execution_count": 35,
   "metadata": {},
   "outputs": [],
   "source": [
    "from sklearn.tree import DecisionTreeClassifier\n",
    "from sklearn.ensemble import VotingClassifier\n",
    "clf1 = AdaBoostClassifier(n_estimators=100, random_state=0)\n",
    "clf2 = RandomForestClassifier(n_estimators=100, random_state=0)\n",
    "clf3 = DecisionTreeClassifier(max_depth=30)\n",
    "eclf1 = VotingClassifier(estimators=[('ab', clf1), ('rf', clf2), ('dt', clf3)], voting='soft')\n",
    "eclf1.fit(X_train, y_train)\n",
    "y_pred = eclf1.predict(X_test)\n",
    "\n",
    "vot_acc_a = accuracy_score(y_pred, y_test)\n",
    "vot_roc_a = roc_auc_score(y_pred, y_test)\n",
    "vot_prec_a = precision_score(y_pred, y_test)\n",
    "vot_rec_a = recall_score(y_pred, y_test)\n",
    "vot_f1_a = f1_score(y_pred, y_test)\n",
    "vot_mcc_a = matthews_corrcoef(y_pred, y_test)\n",
    "vot_kap_a = cohen_kappa_score(y_pred, y_test)\n",
    "vot_log_a = log_loss(y_pred, y_test)\n",
    "\n",
    "\n",
    "storeResults('Voting Classifier',vot_acc_a,vot_roc_a,vot_prec_a,vot_rec_a,vot_f1_a,vot_mcc_a,vot_kap_a,vot_log_a)"
   ]
  },
  {
   "cell_type": "markdown",
   "metadata": {},
   "source": [
    "# Comparison"
   ]
  },
  {
   "cell_type": "code",
   "execution_count": 36,
   "metadata": {},
   "outputs": [],
   "source": [
    "#creating dataframe\n",
    "result = pd.DataFrame({ 'ML Model' : ML_Model,\n",
    "                        'Accuracy' : accuracy,\n",
    "                        'ROC score' : roc,\n",
    "                        'Precision': precision,\n",
    "                        'Recall'   : recall,\n",
    "                        'F1-Score': f1_scorea,\n",
    "                        'MCC' : mcc,\n",
    "                        'Kappa Score' : kappa,\n",
    "                       'Log Loss' : loga\n",
    "                      })"
   ]
  },
  {
   "cell_type": "code",
   "execution_count": 37,
   "metadata": {},
   "outputs": [
    {
     "data": {
      "text/html": [
       "<div>\n",
       "<style scoped>\n",
       "    .dataframe tbody tr th:only-of-type {\n",
       "        vertical-align: middle;\n",
       "    }\n",
       "\n",
       "    .dataframe tbody tr th {\n",
       "        vertical-align: top;\n",
       "    }\n",
       "\n",
       "    .dataframe thead th {\n",
       "        text-align: right;\n",
       "    }\n",
       "</style>\n",
       "<table border=\"1\" class=\"dataframe\">\n",
       "  <thead>\n",
       "    <tr style=\"text-align: right;\">\n",
       "      <th></th>\n",
       "      <th>ML Model</th>\n",
       "      <th>Accuracy</th>\n",
       "      <th>ROC score</th>\n",
       "      <th>Precision</th>\n",
       "      <th>Recall</th>\n",
       "      <th>F1-Score</th>\n",
       "      <th>MCC</th>\n",
       "      <th>Kappa Score</th>\n",
       "      <th>Log Loss</th>\n",
       "    </tr>\n",
       "  </thead>\n",
       "  <tbody>\n",
       "    <tr>\n",
       "      <td>0</td>\n",
       "      <td>AdaBoost Classifier</td>\n",
       "      <td>1.000</td>\n",
       "      <td>1.000</td>\n",
       "      <td>1.000</td>\n",
       "      <td>1.000</td>\n",
       "      <td>1.000</td>\n",
       "      <td>1.000</td>\n",
       "      <td>1.000</td>\n",
       "      <td>0.000</td>\n",
       "    </tr>\n",
       "    <tr>\n",
       "      <td>1</td>\n",
       "      <td>Ransom Forest Classifier</td>\n",
       "      <td>1.000</td>\n",
       "      <td>1.000</td>\n",
       "      <td>1.000</td>\n",
       "      <td>1.000</td>\n",
       "      <td>1.000</td>\n",
       "      <td>1.000</td>\n",
       "      <td>1.000</td>\n",
       "      <td>0.000</td>\n",
       "    </tr>\n",
       "    <tr>\n",
       "      <td>2</td>\n",
       "      <td>Decision Tree Classifier</td>\n",
       "      <td>1.000</td>\n",
       "      <td>1.000</td>\n",
       "      <td>1.000</td>\n",
       "      <td>1.000</td>\n",
       "      <td>1.000</td>\n",
       "      <td>1.000</td>\n",
       "      <td>1.000</td>\n",
       "      <td>0.000</td>\n",
       "    </tr>\n",
       "    <tr>\n",
       "      <td>3</td>\n",
       "      <td>KNN</td>\n",
       "      <td>0.934</td>\n",
       "      <td>0.917</td>\n",
       "      <td>0.923</td>\n",
       "      <td>0.978</td>\n",
       "      <td>0.949</td>\n",
       "      <td>0.857</td>\n",
       "      <td>0.854</td>\n",
       "      <td>2.292</td>\n",
       "    </tr>\n",
       "    <tr>\n",
       "      <td>4</td>\n",
       "      <td>Naive Bayes</td>\n",
       "      <td>0.972</td>\n",
       "      <td>0.962</td>\n",
       "      <td>0.965</td>\n",
       "      <td>0.993</td>\n",
       "      <td>0.979</td>\n",
       "      <td>0.937</td>\n",
       "      <td>0.936</td>\n",
       "      <td>0.982</td>\n",
       "    </tr>\n",
       "    <tr>\n",
       "      <td>5</td>\n",
       "      <td>Logistic Regression</td>\n",
       "      <td>1.000</td>\n",
       "      <td>1.000</td>\n",
       "      <td>1.000</td>\n",
       "      <td>1.000</td>\n",
       "      <td>1.000</td>\n",
       "      <td>1.000</td>\n",
       "      <td>1.000</td>\n",
       "      <td>0.000</td>\n",
       "    </tr>\n",
       "    <tr>\n",
       "      <td>6</td>\n",
       "      <td>SVC</td>\n",
       "      <td>1.000</td>\n",
       "      <td>1.000</td>\n",
       "      <td>1.000</td>\n",
       "      <td>1.000</td>\n",
       "      <td>1.000</td>\n",
       "      <td>1.000</td>\n",
       "      <td>1.000</td>\n",
       "      <td>0.000</td>\n",
       "    </tr>\n",
       "    <tr>\n",
       "      <td>7</td>\n",
       "      <td>LDA</td>\n",
       "      <td>0.962</td>\n",
       "      <td>0.973</td>\n",
       "      <td>1.000</td>\n",
       "      <td>0.947</td>\n",
       "      <td>0.973</td>\n",
       "      <td>0.915</td>\n",
       "      <td>0.911</td>\n",
       "      <td>1.310</td>\n",
       "    </tr>\n",
       "    <tr>\n",
       "      <td>8</td>\n",
       "      <td>Voting Classifier</td>\n",
       "      <td>1.000</td>\n",
       "      <td>1.000</td>\n",
       "      <td>1.000</td>\n",
       "      <td>1.000</td>\n",
       "      <td>1.000</td>\n",
       "      <td>1.000</td>\n",
       "      <td>1.000</td>\n",
       "      <td>0.000</td>\n",
       "    </tr>\n",
       "  </tbody>\n",
       "</table>\n",
       "</div>"
      ],
      "text/plain": [
       "                   ML Model  Accuracy  ROC score  Precision  Recall  F1-Score  \\\n",
       "0       AdaBoost Classifier     1.000      1.000      1.000   1.000     1.000   \n",
       "1  Ransom Forest Classifier     1.000      1.000      1.000   1.000     1.000   \n",
       "2  Decision Tree Classifier     1.000      1.000      1.000   1.000     1.000   \n",
       "3                       KNN     0.934      0.917      0.923   0.978     0.949   \n",
       "4               Naive Bayes     0.972      0.962      0.965   0.993     0.979   \n",
       "5       Logistic Regression     1.000      1.000      1.000   1.000     1.000   \n",
       "6                       SVC     1.000      1.000      1.000   1.000     1.000   \n",
       "7                       LDA     0.962      0.973      1.000   0.947     0.973   \n",
       "8         Voting Classifier     1.000      1.000      1.000   1.000     1.000   \n",
       "\n",
       "     MCC  Kappa Score  Log Loss  \n",
       "0  1.000        1.000     0.000  \n",
       "1  1.000        1.000     0.000  \n",
       "2  1.000        1.000     0.000  \n",
       "3  0.857        0.854     2.292  \n",
       "4  0.937        0.936     0.982  \n",
       "5  1.000        1.000     0.000  \n",
       "6  1.000        1.000     0.000  \n",
       "7  0.915        0.911     1.310  \n",
       "8  1.000        1.000     0.000  "
      ]
     },
     "execution_count": 37,
     "metadata": {},
     "output_type": "execute_result"
    }
   ],
   "source": [
    "result"
   ]
  },
  {
   "cell_type": "code",
   "execution_count": 38,
   "metadata": {},
   "outputs": [
    {
     "data": {
      "text/plain": [
       "['Model/model_toddler_qt.sav']"
      ]
     },
     "execution_count": 38,
     "metadata": {},
     "output_type": "execute_result"
    }
   ],
   "source": [
    "import joblib\n",
    "filename = 'Model/model_toddler_qt.sav'\n",
    "joblib.dump(rf, filename)"
   ]
  },
  {
   "cell_type": "markdown",
   "metadata": {},
   "source": [
    "# Power Transformer"
   ]
  },
  {
   "cell_type": "code",
   "execution_count": 39,
   "metadata": {},
   "outputs": [],
   "source": [
    "X = data.drop([\"Class/ASD Traits \"],axis =1)\n",
    "y = data[\"Class/ASD Traits \"]"
   ]
  },
  {
   "cell_type": "code",
   "execution_count": 40,
   "metadata": {},
   "outputs": [],
   "source": [
    "from sklearn.preprocessing import PowerTransformer\n",
    "pt = PowerTransformer()"
   ]
  },
  {
   "cell_type": "code",
   "execution_count": 41,
   "metadata": {},
   "outputs": [],
   "source": [
    "X_new = pt.fit_transform(X)"
   ]
  },
  {
   "cell_type": "code",
   "execution_count": 42,
   "metadata": {},
   "outputs": [
    {
     "data": {
      "text/plain": [
       "((843, 17), (843,), (211, 17), (211,))"
      ]
     },
     "execution_count": 42,
     "metadata": {},
     "output_type": "execute_result"
    }
   ],
   "source": [
    "from sklearn.model_selection import train_test_split\n",
    "\n",
    "X_train, X_test, y_train, y_test = train_test_split(X_new, y, test_size = 0.2, random_state = 42)\n",
    "X_train.shape, y_train.shape, X_test.shape, y_test.shape"
   ]
  },
  {
   "cell_type": "markdown",
   "metadata": {},
   "source": [
    "# AdaBoost Classifier"
   ]
  },
  {
   "cell_type": "code",
   "execution_count": 43,
   "metadata": {},
   "outputs": [],
   "source": [
    "from sklearn.ensemble import AdaBoostClassifier\n",
    "\n",
    "# instantiate the model \n",
    "ab = AdaBoostClassifier(n_estimators=100, random_state=0)\n",
    "\n",
    "# fit the model \n",
    "ab.fit(X_train, y_train)\n",
    "\n",
    "y_pred = ab.predict(X_test)\n",
    "y_prob = ab.predict_proba(X_test)\n",
    "\n",
    "ab_acc_b = accuracy_score(y_pred, y_test)\n",
    "ab_roc_b = roc_auc_score(y_pred, y_test)\n",
    "ab_prec_b = precision_score(y_pred, y_test)\n",
    "ab_rec_b = recall_score(y_pred, y_test)\n",
    "ab_f1_b = f1_score(y_pred, y_test)\n",
    "ab_mcc_b = matthews_corrcoef(y_pred, y_test)\n",
    "ab_kap_b = cohen_kappa_score(y_pred, y_test)\n",
    "ab_log_b = log_loss(y_pred, y_test)"
   ]
  },
  {
   "cell_type": "code",
   "execution_count": 44,
   "metadata": {},
   "outputs": [],
   "source": [
    "storeResults1('AdaBoost',ab_acc_b,ab_roc_b,ab_prec_b,ab_rec_b,ab_f1_b,ab_mcc_b,ab_kap_b,ab_log_b)"
   ]
  },
  {
   "cell_type": "markdown",
   "metadata": {},
   "source": [
    "# Random FOrest"
   ]
  },
  {
   "cell_type": "code",
   "execution_count": 45,
   "metadata": {},
   "outputs": [],
   "source": [
    "from sklearn.ensemble import RandomForestClassifier\n",
    "\n",
    "# instantiate the model \n",
    "rf = RandomForestClassifier(n_estimators=100, random_state=0)\n",
    "\n",
    "# fit the model \n",
    "rf.fit(X_train, y_train)\n",
    "\n",
    "y_pred = rf.predict(X_test)\n",
    "y_prob = rf.predict_proba(X_test)\n",
    "\n",
    "rf_acc_b = accuracy_score(y_pred, y_test)\n",
    "rf_roc_b = roc_auc_score(y_pred, y_test)\n",
    "rf_prec_b = precision_score(y_pred, y_test)\n",
    "rf_rec_b = recall_score(y_pred, y_test)\n",
    "rf_f1_b = f1_score(y_pred, y_test)\n",
    "rf_mcc_b = matthews_corrcoef(y_pred, y_test)\n",
    "rf_kap_b = cohen_kappa_score(y_pred, y_test)\n",
    "rf_log_b = log_loss(y_pred, y_test)"
   ]
  },
  {
   "cell_type": "code",
   "execution_count": 46,
   "metadata": {},
   "outputs": [],
   "source": [
    "storeResults1('Random Forest',rf_acc_b,rf_roc_b,rf_prec_b,rf_rec_b,rf_f1_b,rf_mcc_b,rf_kap_b,rf_log_b)"
   ]
  },
  {
   "cell_type": "markdown",
   "metadata": {},
   "source": [
    "# Decision Tree"
   ]
  },
  {
   "cell_type": "code",
   "execution_count": 47,
   "metadata": {},
   "outputs": [],
   "source": [
    "from sklearn.tree import DecisionTreeClassifier\n",
    "\n",
    "# instantiate the model \n",
    "tree = DecisionTreeClassifier(max_depth=30)\n",
    "\n",
    "# fit the model \n",
    "tree.fit(X_train, y_train)\n",
    "\n",
    "y_pred = tree.predict(X_test)\n",
    "y_prob = tree.predict_proba(X_test)\n",
    "\n",
    "dt_acc_b = accuracy_score(y_pred, y_test)\n",
    "dt_roc_b = roc_auc_score(y_pred, y_test)\n",
    "dt_prec_b = precision_score(y_pred, y_test)\n",
    "dt_rec_b = recall_score(y_pred, y_test)\n",
    "dt_f1_b = f1_score(y_pred, y_test)\n",
    "dt_mcc_b = matthews_corrcoef(y_pred, y_test)\n",
    "dt_kap_b = cohen_kappa_score(y_pred, y_test)\n",
    "dt_log_b = log_loss(y_pred, y_test)"
   ]
  },
  {
   "cell_type": "code",
   "execution_count": 48,
   "metadata": {},
   "outputs": [],
   "source": [
    "storeResults1('Decision Tree',dt_acc_b,dt_roc_b,dt_prec_b,dt_rec_b,dt_f1_b,dt_mcc_b,dt_kap_b,dt_log_b)"
   ]
  },
  {
   "cell_type": "markdown",
   "metadata": {},
   "source": [
    "# KNN"
   ]
  },
  {
   "cell_type": "code",
   "execution_count": 49,
   "metadata": {},
   "outputs": [],
   "source": [
    "from sklearn.neighbors import KNeighborsClassifier\n",
    "#from sklearn.pipeline import Pipeline\n",
    "\n",
    "# instantiate the model\n",
    "knn = KNeighborsClassifier(n_neighbors=3)\n",
    "\n",
    "# fit the model \n",
    "knn.fit(X_train,y_train)\n",
    "\n",
    "y_pred = knn.predict(X_test)\n",
    "y_prob = knn.predict_proba(X_test)\n",
    "\n",
    "knn_acc_b = accuracy_score(y_pred, y_test)\n",
    "knn_roc_b = roc_auc_score(y_pred, y_test)\n",
    "knn_prec_b = precision_score(y_pred, y_test)\n",
    "knn_rec_b = recall_score(y_pred, y_test)\n",
    "knn_f1_b = f1_score(y_pred, y_test)\n",
    "knn_mcc_b = matthews_corrcoef(y_pred, y_test)\n",
    "knn_kap_b = cohen_kappa_score(y_pred, y_test)\n",
    "knn_log_b = log_loss(y_pred, y_test)"
   ]
  },
  {
   "cell_type": "code",
   "execution_count": 50,
   "metadata": {},
   "outputs": [],
   "source": [
    "storeResults1('KNN',knn_acc_b,knn_roc_b,knn_prec_b,knn_rec_b,knn_f1_b,knn_mcc_b,knn_kap_b,knn_log_b)"
   ]
  },
  {
   "cell_type": "markdown",
   "metadata": {},
   "source": [
    "# Naive Bayes"
   ]
  },
  {
   "cell_type": "code",
   "execution_count": 51,
   "metadata": {},
   "outputs": [],
   "source": [
    "from sklearn.naive_bayes import GaussianNB\n",
    "#from sklearn.pipeline import Pipeline\n",
    "\n",
    "# instantiate the model\n",
    "nb=  GaussianNB()\n",
    "\n",
    "# fit the model \n",
    "nb.fit(X_train,y_train)\n",
    "\n",
    "y_pred = nb.predict(X_test)\n",
    "y_prob = nb.predict_proba(X_test)\n",
    "\n",
    "nb_acc_b = accuracy_score(y_pred, y_test)\n",
    "nb_roc_b = roc_auc_score(y_pred, y_test)\n",
    "nb_prec_b = precision_score(y_pred, y_test)\n",
    "nb_rec_b = recall_score(y_pred, y_test)\n",
    "nb_f1_b = f1_score(y_pred, y_test)\n",
    "nb_mcc_b = matthews_corrcoef(y_pred, y_test)\n",
    "nb_kap_b = cohen_kappa_score(y_pred, y_test)\n",
    "nb_log_b = log_loss(y_pred, y_test)"
   ]
  },
  {
   "cell_type": "code",
   "execution_count": 52,
   "metadata": {},
   "outputs": [],
   "source": [
    "storeResults1('Naive Bayes',nb_acc_b,nb_roc_b,nb_prec_b,nb_rec_b,nb_f1_b,nb_mcc_b,nb_kap_b,nb_log_b)"
   ]
  },
  {
   "cell_type": "markdown",
   "metadata": {},
   "source": [
    "# Logistic Regession"
   ]
  },
  {
   "cell_type": "code",
   "execution_count": 53,
   "metadata": {},
   "outputs": [],
   "source": [
    "# Logistic Regression model \n",
    "from sklearn.linear_model import LogisticRegression\n",
    "#from sklearn.pipeline import Pipeline\n",
    "\n",
    "# instantiate the model\n",
    "log = LogisticRegression()\n",
    "\n",
    "# fit the model \n",
    "log.fit(X_train,y_train)\n",
    "\n",
    "y_pred = log.predict(X_test)\n",
    "y_prob = log.predict_proba(X_test)\n",
    "\n",
    "lr_acc_b = accuracy_score(y_pred, y_test)\n",
    "lr_roc_b = roc_auc_score(y_pred, y_test)\n",
    "lr_prec_b = precision_score(y_pred, y_test)\n",
    "lr_rec_b = recall_score(y_pred, y_test)\n",
    "lr_f1_b = f1_score(y_pred, y_test)\n",
    "lr_mcc_b = matthews_corrcoef(y_pred, y_test)\n",
    "lr_kap_b = cohen_kappa_score(y_pred, y_test)\n",
    "lr_log_b = log_loss(y_pred, y_test)"
   ]
  },
  {
   "cell_type": "code",
   "execution_count": 54,
   "metadata": {},
   "outputs": [],
   "source": [
    "storeResults1('Logistic Regression',lr_acc_b,lr_roc_b,lr_prec_b,lr_rec_b,lr_f1_b,lr_mcc_b,lr_kap_b,lr_log_b)"
   ]
  },
  {
   "cell_type": "markdown",
   "metadata": {},
   "source": [
    "# SVM"
   ]
  },
  {
   "cell_type": "code",
   "execution_count": 55,
   "metadata": {},
   "outputs": [],
   "source": [
    "from sklearn.svm import SVC\n",
    "svc = SVC()\n",
    "\n",
    "# fitting the model for grid search\n",
    "svc.fit(X_train, y_train)\n",
    "\n",
    "y_pred = svc.predict(X_test)\n",
    "#y_prob = svc.predict_proba(X_test)\n",
    "\n",
    "svc_acc_b = accuracy_score(y_pred, y_test)\n",
    "svc_roc_b = roc_auc_score(y_pred, y_test)\n",
    "svc_prec_b = precision_score(y_pred, y_test)\n",
    "svc_rec_b = recall_score(y_pred, y_test)\n",
    "svc_f1_b = f1_score(y_pred, y_test)\n",
    "svc_mcc_b = matthews_corrcoef(y_pred, y_test)\n",
    "svc_kap_b = cohen_kappa_score(y_pred, y_test)\n",
    "svc_log_b = log_loss(y_pred, y_test)"
   ]
  },
  {
   "cell_type": "code",
   "execution_count": 56,
   "metadata": {},
   "outputs": [],
   "source": [
    "storeResults1('SVM',svc_acc_b,svc_roc_b,svc_prec_b,svc_rec_b,svc_f1_b,svc_mcc_b,svc_kap_b,svc_log_b)"
   ]
  },
  {
   "cell_type": "markdown",
   "metadata": {},
   "source": [
    "# LDA"
   ]
  },
  {
   "cell_type": "code",
   "execution_count": 57,
   "metadata": {},
   "outputs": [],
   "source": [
    "from sklearn.discriminant_analysis import LinearDiscriminantAnalysis\n",
    "\n",
    "clf = LinearDiscriminantAnalysis()\n",
    "\n",
    "# fitting the model for grid search\n",
    "clf.fit(X_train, y_train)\n",
    "\n",
    "y_pred = clf.predict(X_test)\n",
    "#y_prob = svc.predict_proba(X_test)\n",
    "\n",
    "lda_acc_b = accuracy_score(y_pred, y_test)\n",
    "lda_roc_b = roc_auc_score(y_pred, y_test)\n",
    "lda_prec_b = precision_score(y_pred, y_test)\n",
    "lda_rec_b = recall_score(y_pred, y_test)\n",
    "lda_f1_b = f1_score(y_pred, y_test)\n",
    "lda_mcc_b = matthews_corrcoef(y_pred, y_test)\n",
    "lda_kap_b = cohen_kappa_score(y_pred, y_test)\n",
    "lda_log_b = log_loss(y_pred, y_test)"
   ]
  },
  {
   "cell_type": "code",
   "execution_count": 58,
   "metadata": {},
   "outputs": [],
   "source": [
    "storeResults1('LDA',lda_acc_b,lda_roc_b,lda_prec_b,lda_rec_b,lda_f1_b,lda_mcc_b,lda_kap_b,lda_log_b)"
   ]
  },
  {
   "cell_type": "markdown",
   "metadata": {},
   "source": [
    "# Voting Classifier"
   ]
  },
  {
   "cell_type": "code",
   "execution_count": 59,
   "metadata": {},
   "outputs": [],
   "source": [
    "from sklearn.tree import DecisionTreeClassifier\n",
    "from sklearn.ensemble import VotingClassifier\n",
    "clf1 = AdaBoostClassifier(n_estimators=100, random_state=0)\n",
    "clf2 = RandomForestClassifier(n_estimators=100, random_state=0)\n",
    "clf3 = DecisionTreeClassifier(max_depth=30)\n",
    "eclf1 = VotingClassifier(estimators=[('ab', clf1), ('rf', clf2), ('dt', clf3)], voting='soft')\n",
    "eclf1.fit(X_train, y_train)\n",
    "y_pred = eclf1.predict(X_test)\n",
    "\n",
    "vot_acc_b = accuracy_score(y_pred, y_test)\n",
    "vot_roc_b = roc_auc_score(y_pred, y_test)\n",
    "vot_prec_b = precision_score(y_pred, y_test)\n",
    "vot_rec_b = recall_score(y_pred, y_test)\n",
    "vot_f1_b = f1_score(y_pred, y_test)\n",
    "vot_mcc_b = matthews_corrcoef(y_pred, y_test)\n",
    "vot_kap_b = cohen_kappa_score(y_pred, y_test)\n",
    "vot_log_b = log_loss(y_pred, y_test)\n",
    "\n",
    "\n",
    "storeResults1('Voting Classifier',vot_acc_b,vot_roc_b,vot_prec_b,vot_rec_b,vot_f1_b,vot_mcc_b,vot_kap_b,vot_log_b)"
   ]
  },
  {
   "cell_type": "code",
   "execution_count": 60,
   "metadata": {},
   "outputs": [],
   "source": [
    "#creating dataframe\n",
    "result = pd.DataFrame({ 'ML Model' : ML_Model1,\n",
    "                        'Accuracy' : accuracy1,\n",
    "                        'ROC score' : roc1,\n",
    "                        'Precision': precision1,\n",
    "                        'Recall'   : recall1,\n",
    "                        'F1-Score': f1_score1,\n",
    "                        'MCC' : mcc1,\n",
    "                        'Kappa Score' : kappa1,\n",
    "                       'Log Loss' : log1\n",
    "                      })"
   ]
  },
  {
   "cell_type": "code",
   "execution_count": 61,
   "metadata": {},
   "outputs": [
    {
     "data": {
      "text/html": [
       "<div>\n",
       "<style scoped>\n",
       "    .dataframe tbody tr th:only-of-type {\n",
       "        vertical-align: middle;\n",
       "    }\n",
       "\n",
       "    .dataframe tbody tr th {\n",
       "        vertical-align: top;\n",
       "    }\n",
       "\n",
       "    .dataframe thead th {\n",
       "        text-align: right;\n",
       "    }\n",
       "</style>\n",
       "<table border=\"1\" class=\"dataframe\">\n",
       "  <thead>\n",
       "    <tr style=\"text-align: right;\">\n",
       "      <th></th>\n",
       "      <th>ML Model</th>\n",
       "      <th>Accuracy</th>\n",
       "      <th>ROC score</th>\n",
       "      <th>Precision</th>\n",
       "      <th>Recall</th>\n",
       "      <th>F1-Score</th>\n",
       "      <th>MCC</th>\n",
       "      <th>Kappa Score</th>\n",
       "      <th>Log Loss</th>\n",
       "    </tr>\n",
       "  </thead>\n",
       "  <tbody>\n",
       "    <tr>\n",
       "      <td>0</td>\n",
       "      <td>AdaBoost</td>\n",
       "      <td>1.000</td>\n",
       "      <td>1.000</td>\n",
       "      <td>1.000</td>\n",
       "      <td>1.000</td>\n",
       "      <td>1.000</td>\n",
       "      <td>1.000</td>\n",
       "      <td>1.000</td>\n",
       "      <td>0.000</td>\n",
       "    </tr>\n",
       "    <tr>\n",
       "      <td>1</td>\n",
       "      <td>Random Forest</td>\n",
       "      <td>1.000</td>\n",
       "      <td>1.000</td>\n",
       "      <td>1.000</td>\n",
       "      <td>1.000</td>\n",
       "      <td>1.000</td>\n",
       "      <td>1.000</td>\n",
       "      <td>1.000</td>\n",
       "      <td>0.000</td>\n",
       "    </tr>\n",
       "    <tr>\n",
       "      <td>2</td>\n",
       "      <td>Decision Tree</td>\n",
       "      <td>1.000</td>\n",
       "      <td>1.000</td>\n",
       "      <td>1.000</td>\n",
       "      <td>1.000</td>\n",
       "      <td>1.000</td>\n",
       "      <td>1.000</td>\n",
       "      <td>1.000</td>\n",
       "      <td>0.000</td>\n",
       "    </tr>\n",
       "    <tr>\n",
       "      <td>3</td>\n",
       "      <td>KNN</td>\n",
       "      <td>0.972</td>\n",
       "      <td>0.965</td>\n",
       "      <td>0.972</td>\n",
       "      <td>0.986</td>\n",
       "      <td>0.979</td>\n",
       "      <td>0.936</td>\n",
       "      <td>0.936</td>\n",
       "      <td>0.982</td>\n",
       "    </tr>\n",
       "    <tr>\n",
       "      <td>4</td>\n",
       "      <td>Naive Bayes</td>\n",
       "      <td>0.967</td>\n",
       "      <td>0.956</td>\n",
       "      <td>0.958</td>\n",
       "      <td>0.993</td>\n",
       "      <td>0.975</td>\n",
       "      <td>0.927</td>\n",
       "      <td>0.926</td>\n",
       "      <td>1.146</td>\n",
       "    </tr>\n",
       "    <tr>\n",
       "      <td>5</td>\n",
       "      <td>Logistic Regression</td>\n",
       "      <td>1.000</td>\n",
       "      <td>1.000</td>\n",
       "      <td>1.000</td>\n",
       "      <td>1.000</td>\n",
       "      <td>1.000</td>\n",
       "      <td>1.000</td>\n",
       "      <td>1.000</td>\n",
       "      <td>0.000</td>\n",
       "    </tr>\n",
       "    <tr>\n",
       "      <td>6</td>\n",
       "      <td>SVM</td>\n",
       "      <td>1.000</td>\n",
       "      <td>1.000</td>\n",
       "      <td>1.000</td>\n",
       "      <td>1.000</td>\n",
       "      <td>1.000</td>\n",
       "      <td>1.000</td>\n",
       "      <td>1.000</td>\n",
       "      <td>0.000</td>\n",
       "    </tr>\n",
       "    <tr>\n",
       "      <td>7</td>\n",
       "      <td>LDA</td>\n",
       "      <td>0.986</td>\n",
       "      <td>0.990</td>\n",
       "      <td>1.000</td>\n",
       "      <td>0.979</td>\n",
       "      <td>0.990</td>\n",
       "      <td>0.968</td>\n",
       "      <td>0.967</td>\n",
       "      <td>0.491</td>\n",
       "    </tr>\n",
       "    <tr>\n",
       "      <td>8</td>\n",
       "      <td>Voting Classifier</td>\n",
       "      <td>1.000</td>\n",
       "      <td>1.000</td>\n",
       "      <td>1.000</td>\n",
       "      <td>1.000</td>\n",
       "      <td>1.000</td>\n",
       "      <td>1.000</td>\n",
       "      <td>1.000</td>\n",
       "      <td>0.000</td>\n",
       "    </tr>\n",
       "  </tbody>\n",
       "</table>\n",
       "</div>"
      ],
      "text/plain": [
       "              ML Model  Accuracy  ROC score  Precision  Recall  F1-Score  \\\n",
       "0             AdaBoost     1.000      1.000      1.000   1.000     1.000   \n",
       "1        Random Forest     1.000      1.000      1.000   1.000     1.000   \n",
       "2        Decision Tree     1.000      1.000      1.000   1.000     1.000   \n",
       "3                  KNN     0.972      0.965      0.972   0.986     0.979   \n",
       "4          Naive Bayes     0.967      0.956      0.958   0.993     0.975   \n",
       "5  Logistic Regression     1.000      1.000      1.000   1.000     1.000   \n",
       "6                  SVM     1.000      1.000      1.000   1.000     1.000   \n",
       "7                  LDA     0.986      0.990      1.000   0.979     0.990   \n",
       "8    Voting Classifier     1.000      1.000      1.000   1.000     1.000   \n",
       "\n",
       "     MCC  Kappa Score  Log Loss  \n",
       "0  1.000        1.000     0.000  \n",
       "1  1.000        1.000     0.000  \n",
       "2  1.000        1.000     0.000  \n",
       "3  0.936        0.936     0.982  \n",
       "4  0.927        0.926     1.146  \n",
       "5  1.000        1.000     0.000  \n",
       "6  1.000        1.000     0.000  \n",
       "7  0.968        0.967     0.491  \n",
       "8  1.000        1.000     0.000  "
      ]
     },
     "execution_count": 61,
     "metadata": {},
     "output_type": "execute_result"
    }
   ],
   "source": [
    "result"
   ]
  },
  {
   "cell_type": "code",
   "execution_count": 62,
   "metadata": {},
   "outputs": [
    {
     "data": {
      "text/plain": [
       "['Model/model_toddler_pt.sav']"
      ]
     },
     "execution_count": 62,
     "metadata": {},
     "output_type": "execute_result"
    }
   ],
   "source": [
    "import joblib\n",
    "filename = 'Model/model_toddler_pt.sav'\n",
    "joblib.dump(rf, filename)"
   ]
  },
  {
   "cell_type": "markdown",
   "metadata": {},
   "source": [
    "# MaxAbsScaler - MAS"
   ]
  },
  {
   "cell_type": "code",
   "execution_count": 63,
   "metadata": {},
   "outputs": [],
   "source": [
    "X = data.drop([\"Class/ASD Traits \"],axis =1)\n",
    "y = data[\"Class/ASD Traits \"]"
   ]
  },
  {
   "cell_type": "code",
   "execution_count": 64,
   "metadata": {},
   "outputs": [],
   "source": [
    "from sklearn.preprocessing import MaxAbsScaler\n",
    "transformer = MaxAbsScaler()\n",
    "X_new = transformer.fit_transform(X)"
   ]
  },
  {
   "cell_type": "code",
   "execution_count": 65,
   "metadata": {},
   "outputs": [
    {
     "data": {
      "text/plain": [
       "((843, 17), (843,), (211, 17), (211,))"
      ]
     },
     "execution_count": 65,
     "metadata": {},
     "output_type": "execute_result"
    }
   ],
   "source": [
    "from sklearn.model_selection import train_test_split\n",
    "\n",
    "X_train, X_test, y_train, y_test = train_test_split(X_new, y, test_size = 0.2, random_state = 42)\n",
    "X_train.shape, y_train.shape, X_test.shape, y_test.shape"
   ]
  },
  {
   "cell_type": "markdown",
   "metadata": {},
   "source": [
    "# AdaBoost Classifier"
   ]
  },
  {
   "cell_type": "code",
   "execution_count": 66,
   "metadata": {},
   "outputs": [],
   "source": [
    "from sklearn.ensemble import AdaBoostClassifier\n",
    "\n",
    "# instantiate the model \n",
    "ab = AdaBoostClassifier(n_estimators=100, random_state=0)\n",
    "\n",
    "# fit the model \n",
    "ab.fit(X_train, y_train)\n",
    "\n",
    "y_pred = ab.predict(X_test)\n",
    "y_prob = ab.predict_proba(X_test)\n",
    "\n",
    "ab_acc_c = accuracy_score(y_pred, y_test)\n",
    "ab_roc_c = roc_auc_score(y_pred, y_test)\n",
    "ab_prec_c = precision_score(y_pred, y_test)\n",
    "ab_rec_c = recall_score(y_pred, y_test)\n",
    "ab_f1_c = f1_score(y_pred, y_test)\n",
    "ab_mcc_c = matthews_corrcoef(y_pred, y_test)\n",
    "ab_kap_c = cohen_kappa_score(y_pred, y_test)\n",
    "ab_log_c = log_loss(y_pred, y_test)"
   ]
  },
  {
   "cell_type": "code",
   "execution_count": 67,
   "metadata": {},
   "outputs": [],
   "source": [
    "storeResults2('AdaBoost',ab_acc_c,ab_roc_c,ab_prec_c,ab_rec_c,ab_f1_c,ab_mcc_c,ab_kap_c,ab_log_c)"
   ]
  },
  {
   "cell_type": "markdown",
   "metadata": {},
   "source": [
    "# Random Forest"
   ]
  },
  {
   "cell_type": "code",
   "execution_count": 68,
   "metadata": {},
   "outputs": [],
   "source": [
    "from sklearn.ensemble import RandomForestClassifier\n",
    "\n",
    "# instantiate the model \n",
    "rf = RandomForestClassifier(n_estimators=100, random_state=0)\n",
    "\n",
    "# fit the model \n",
    "rf.fit(X_train, y_train)\n",
    "\n",
    "y_pred = rf.predict(X_test)\n",
    "y_prob = rf.predict_proba(X_test)\n",
    "\n",
    "rf_acc_c = accuracy_score(y_pred, y_test)\n",
    "rf_roc_c = roc_auc_score(y_pred, y_test)\n",
    "rf_prec_c = precision_score(y_pred, y_test)\n",
    "rf_rec_c = recall_score(y_pred, y_test)\n",
    "rf_f1_c = f1_score(y_pred, y_test)\n",
    "rf_mcc_c = matthews_corrcoef(y_pred, y_test)\n",
    "rf_kap_c = cohen_kappa_score(y_pred, y_test)\n",
    "rf_log_c = log_loss(y_pred, y_test)"
   ]
  },
  {
   "cell_type": "code",
   "execution_count": 69,
   "metadata": {},
   "outputs": [],
   "source": [
    "storeResults2('Random FOrest',rf_acc_c,rf_roc_c,rf_prec_c,rf_rec_c,rf_f1_c,rf_mcc_c,rf_kap_c,rf_log_c)"
   ]
  },
  {
   "cell_type": "markdown",
   "metadata": {},
   "source": [
    "# Decision Tree"
   ]
  },
  {
   "cell_type": "code",
   "execution_count": 70,
   "metadata": {},
   "outputs": [],
   "source": [
    "from sklearn.tree import DecisionTreeClassifier\n",
    "\n",
    "# instantiate the model \n",
    "tree = DecisionTreeClassifier(max_depth=30)\n",
    "\n",
    "# fit the model \n",
    "tree.fit(X_train, y_train)\n",
    "\n",
    "y_pred = tree.predict(X_test)\n",
    "y_prob = tree.predict_proba(X_test)\n",
    "\n",
    "dt_acc_c = accuracy_score(y_pred, y_test)\n",
    "dt_roc_c = roc_auc_score(y_pred, y_test)\n",
    "dt_prec_c = precision_score(y_pred, y_test)\n",
    "dt_rec_c = recall_score(y_pred, y_test)\n",
    "dt_f1_c = f1_score(y_pred, y_test)\n",
    "dt_mcc_c = matthews_corrcoef(y_pred, y_test)\n",
    "dt_kap_c = cohen_kappa_score(y_pred, y_test)\n",
    "dt_log_c = log_loss(y_pred, y_test)"
   ]
  },
  {
   "cell_type": "code",
   "execution_count": 71,
   "metadata": {},
   "outputs": [],
   "source": [
    "storeResults2('Decision Tree',dt_acc_c,dt_roc_c,dt_prec_c,dt_rec_c,dt_f1_c,dt_mcc_c,dt_kap_c,dt_log_c)"
   ]
  },
  {
   "cell_type": "markdown",
   "metadata": {},
   "source": [
    "# KNN"
   ]
  },
  {
   "cell_type": "code",
   "execution_count": 72,
   "metadata": {},
   "outputs": [],
   "source": [
    "from sklearn.neighbors import KNeighborsClassifier\n",
    "#from sklearn.pipeline import Pipeline\n",
    "\n",
    "# instantiate the model\n",
    "knn = KNeighborsClassifier(n_neighbors=3)\n",
    "\n",
    "# fit the model \n",
    "knn.fit(X_train,y_train)\n",
    "\n",
    "y_pred = knn.predict(X_test)\n",
    "y_prob = knn.predict_proba(X_test)\n",
    "\n",
    "knn_acc_c = accuracy_score(y_pred, y_test)\n",
    "knn_roc_c = roc_auc_score(y_pred, y_test)\n",
    "knn_prec_c = precision_score(y_pred, y_test)\n",
    "knn_rec_c = recall_score(y_pred, y_test)\n",
    "knn_f1_c = f1_score(y_pred, y_test)\n",
    "knn_mcc_c = matthews_corrcoef(y_pred, y_test)\n",
    "knn_kap_c = cohen_kappa_score(y_pred, y_test)\n",
    "knn_log_c = log_loss(y_pred, y_test)"
   ]
  },
  {
   "cell_type": "code",
   "execution_count": 73,
   "metadata": {},
   "outputs": [],
   "source": [
    "storeResults2('KNN',knn_acc_c,knn_roc_c,knn_prec_c,knn_rec_c,knn_f1_c,knn_mcc_c,knn_kap_c,knn_log_c)"
   ]
  },
  {
   "cell_type": "markdown",
   "metadata": {},
   "source": [
    "# Naive Bayes"
   ]
  },
  {
   "cell_type": "code",
   "execution_count": 74,
   "metadata": {},
   "outputs": [],
   "source": [
    "from sklearn.naive_bayes import GaussianNB\n",
    "#from sklearn.pipeline import Pipeline\n",
    "\n",
    "# instantiate the model\n",
    "nb=  GaussianNB()\n",
    "\n",
    "# fit the model \n",
    "nb.fit(X_train,y_train)\n",
    "\n",
    "y_pred = nb.predict(X_test)\n",
    "y_prob = nb.predict_proba(X_test)\n",
    "\n",
    "nb_acc_c = accuracy_score(y_pred, y_test)\n",
    "nb_roc_c = roc_auc_score(y_pred, y_test)\n",
    "nb_prec_c = precision_score(y_pred, y_test)\n",
    "nb_rec_c = recall_score(y_pred, y_test)\n",
    "nb_f1_c = f1_score(y_pred, y_test)\n",
    "nb_mcc_c = matthews_corrcoef(y_pred, y_test)\n",
    "nb_kap_c = cohen_kappa_score(y_pred, y_test)\n",
    "nb_log_c = log_loss(y_pred, y_test)"
   ]
  },
  {
   "cell_type": "code",
   "execution_count": 75,
   "metadata": {},
   "outputs": [],
   "source": [
    "storeResults2('Naive Bayes',nb_acc_c,nb_roc_c,nb_prec_c,nb_rec_c,nb_f1_c,nb_mcc_c,nb_kap_c,nb_log_c)"
   ]
  },
  {
   "cell_type": "markdown",
   "metadata": {},
   "source": [
    "# Logistic Regression"
   ]
  },
  {
   "cell_type": "code",
   "execution_count": 76,
   "metadata": {},
   "outputs": [],
   "source": [
    "# Logistic Regression model \n",
    "from sklearn.linear_model import LogisticRegression\n",
    "#from sklearn.pipeline import Pipeline\n",
    "\n",
    "# instantiate the model\n",
    "log = LogisticRegression()\n",
    "\n",
    "# fit the model \n",
    "log.fit(X_train,y_train)\n",
    "\n",
    "y_pred = log.predict(X_test)\n",
    "y_prob = log.predict_proba(X_test)\n",
    "\n",
    "lr_acc_c = accuracy_score(y_pred, y_test)\n",
    "lr_roc_c = roc_auc_score(y_pred, y_test)\n",
    "lr_prec_c = precision_score(y_pred, y_test)\n",
    "lr_rec_c = recall_score(y_pred, y_test)\n",
    "lr_f1_c = f1_score(y_pred, y_test)\n",
    "lr_mcc_c = matthews_corrcoef(y_pred, y_test)\n",
    "lr_kap_c = cohen_kappa_score(y_pred, y_test)\n",
    "lr_log_c = log_loss(y_pred, y_test)"
   ]
  },
  {
   "cell_type": "code",
   "execution_count": 77,
   "metadata": {},
   "outputs": [],
   "source": [
    "storeResults2('Logistic Regression',lr_acc_c,lr_roc_c,lr_prec_c,lr_rec_c,lr_f1_c,lr_mcc_c,lr_kap_c,lr_log_c)"
   ]
  },
  {
   "cell_type": "markdown",
   "metadata": {},
   "source": [
    "# SVC"
   ]
  },
  {
   "cell_type": "code",
   "execution_count": 78,
   "metadata": {},
   "outputs": [],
   "source": [
    "from sklearn.svm import SVC\n",
    "svc = SVC()\n",
    "\n",
    "# fitting the model for grid search\n",
    "svc.fit(X_train, y_train)\n",
    "\n",
    "y_pred = svc.predict(X_test)\n",
    "#y_prob = svc.predict_proba(X_test)\n",
    "\n",
    "svc_acc_c = accuracy_score(y_pred, y_test)\n",
    "svc_roc_c = roc_auc_score(y_pred, y_test)\n",
    "svc_prec_c = precision_score(y_pred, y_test)\n",
    "svc_rec_c = recall_score(y_pred, y_test)\n",
    "svc_f1_c = f1_score(y_pred, y_test)\n",
    "svc_mcc_c = matthews_corrcoef(y_pred, y_test)\n",
    "svc_kap_c = cohen_kappa_score(y_pred, y_test)\n",
    "svc_log_c = log_loss(y_pred, y_test)"
   ]
  },
  {
   "cell_type": "code",
   "execution_count": 79,
   "metadata": {},
   "outputs": [],
   "source": [
    "storeResults2('SVC',svc_acc_c,svc_roc_c,svc_prec_c,svc_rec_c,svc_f1_c,svc_mcc_c,svc_kap_c,svc_log_c)"
   ]
  },
  {
   "cell_type": "markdown",
   "metadata": {},
   "source": [
    "# LDA"
   ]
  },
  {
   "cell_type": "code",
   "execution_count": 80,
   "metadata": {},
   "outputs": [],
   "source": [
    "from sklearn.discriminant_analysis import LinearDiscriminantAnalysis\n",
    "\n",
    "clf = LinearDiscriminantAnalysis()\n",
    "\n",
    "# fitting the model for grid search\n",
    "clf.fit(X_train, y_train)\n",
    "\n",
    "y_pred = clf.predict(X_test)\n",
    "#y_prob = svc.predict_proba(X_test)\n",
    "\n",
    "lda_acc_c = accuracy_score(y_pred, y_test)\n",
    "lda_roc_c = roc_auc_score(y_pred, y_test)\n",
    "lda_prec_c = precision_score(y_pred, y_test)\n",
    "lda_rec_c = recall_score(y_pred, y_test)\n",
    "lda_f1_c = f1_score(y_pred, y_test)\n",
    "lda_mcc_c = matthews_corrcoef(y_pred, y_test)\n",
    "lda_kap_c = cohen_kappa_score(y_pred, y_test)\n",
    "lda_log_c = log_loss(y_pred, y_test)"
   ]
  },
  {
   "cell_type": "code",
   "execution_count": 81,
   "metadata": {},
   "outputs": [],
   "source": [
    "storeResults2('LDA',lda_acc_c,lda_roc_c,lda_prec_c,lda_rec_c,lda_f1_c,lda_mcc_c,lda_kap_c,lda_log_c)"
   ]
  },
  {
   "cell_type": "markdown",
   "metadata": {},
   "source": [
    "# Voting Classifier"
   ]
  },
  {
   "cell_type": "code",
   "execution_count": 82,
   "metadata": {},
   "outputs": [],
   "source": [
    "from sklearn.tree import DecisionTreeClassifier\n",
    "from sklearn.ensemble import VotingClassifier\n",
    "clf1 = AdaBoostClassifier(n_estimators=100, random_state=0)\n",
    "clf2 = RandomForestClassifier(n_estimators=100, random_state=0)\n",
    "clf3 = DecisionTreeClassifier(max_depth=30)\n",
    "eclf1 = VotingClassifier(estimators=[('ab', clf1), ('rf', clf2), ('dt', clf3)], voting='soft')\n",
    "eclf1.fit(X_train, y_train)\n",
    "y_pred = eclf1.predict(X_test)\n",
    "\n",
    "vot_acc_c = accuracy_score(y_pred, y_test)\n",
    "vot_roc_c = roc_auc_score(y_pred, y_test)\n",
    "vot_prec_c = precision_score(y_pred, y_test)\n",
    "vot_rec_c = recall_score(y_pred, y_test)\n",
    "vot_f1_c = f1_score(y_pred, y_test)\n",
    "vot_mcc_c = matthews_corrcoef(y_pred, y_test)\n",
    "vot_kap_c = cohen_kappa_score(y_pred, y_test)\n",
    "vot_log_c = log_loss(y_pred, y_test)\n",
    "\n",
    "\n",
    "storeResults2('Voting Classifier',vot_acc_c,vot_roc_c,vot_prec_c,vot_rec_c,vot_f1_c,vot_mcc_c,vot_kap_c,vot_log_c)"
   ]
  },
  {
   "cell_type": "code",
   "execution_count": 83,
   "metadata": {},
   "outputs": [],
   "source": [
    "#creating dataframe\n",
    "result = pd.DataFrame({ 'ML Model' : ML_Model2,\n",
    "                        'Accuracy' : accuracy2,\n",
    "                        'ROC score' : roc2,\n",
    "                        'Precision': precision2,\n",
    "                        'Recall'   : recall2,\n",
    "                        'F1-Score': f1_score2,\n",
    "                        'MCC' : mcc2,\n",
    "                        'Kappa Score' : kappa2,\n",
    "                       'Log Loss' : log2\n",
    "                      })"
   ]
  },
  {
   "cell_type": "code",
   "execution_count": 84,
   "metadata": {},
   "outputs": [
    {
     "data": {
      "text/html": [
       "<div>\n",
       "<style scoped>\n",
       "    .dataframe tbody tr th:only-of-type {\n",
       "        vertical-align: middle;\n",
       "    }\n",
       "\n",
       "    .dataframe tbody tr th {\n",
       "        vertical-align: top;\n",
       "    }\n",
       "\n",
       "    .dataframe thead th {\n",
       "        text-align: right;\n",
       "    }\n",
       "</style>\n",
       "<table border=\"1\" class=\"dataframe\">\n",
       "  <thead>\n",
       "    <tr style=\"text-align: right;\">\n",
       "      <th></th>\n",
       "      <th>ML Model</th>\n",
       "      <th>Accuracy</th>\n",
       "      <th>ROC score</th>\n",
       "      <th>Precision</th>\n",
       "      <th>Recall</th>\n",
       "      <th>F1-Score</th>\n",
       "      <th>MCC</th>\n",
       "      <th>Kappa Score</th>\n",
       "      <th>Log Loss</th>\n",
       "    </tr>\n",
       "  </thead>\n",
       "  <tbody>\n",
       "    <tr>\n",
       "      <td>0</td>\n",
       "      <td>AdaBoost</td>\n",
       "      <td>1.000</td>\n",
       "      <td>1.000</td>\n",
       "      <td>1.000</td>\n",
       "      <td>1.000</td>\n",
       "      <td>1.000</td>\n",
       "      <td>1.000</td>\n",
       "      <td>1.000</td>\n",
       "      <td>0.000</td>\n",
       "    </tr>\n",
       "    <tr>\n",
       "      <td>1</td>\n",
       "      <td>Random FOrest</td>\n",
       "      <td>1.000</td>\n",
       "      <td>1.000</td>\n",
       "      <td>1.000</td>\n",
       "      <td>1.000</td>\n",
       "      <td>1.000</td>\n",
       "      <td>1.000</td>\n",
       "      <td>1.000</td>\n",
       "      <td>0.000</td>\n",
       "    </tr>\n",
       "    <tr>\n",
       "      <td>2</td>\n",
       "      <td>Decision Tree</td>\n",
       "      <td>1.000</td>\n",
       "      <td>1.000</td>\n",
       "      <td>1.000</td>\n",
       "      <td>1.000</td>\n",
       "      <td>1.000</td>\n",
       "      <td>1.000</td>\n",
       "      <td>1.000</td>\n",
       "      <td>0.000</td>\n",
       "    </tr>\n",
       "    <tr>\n",
       "      <td>3</td>\n",
       "      <td>KNN</td>\n",
       "      <td>0.953</td>\n",
       "      <td>0.941</td>\n",
       "      <td>0.951</td>\n",
       "      <td>0.978</td>\n",
       "      <td>0.964</td>\n",
       "      <td>0.895</td>\n",
       "      <td>0.894</td>\n",
       "      <td>1.637</td>\n",
       "    </tr>\n",
       "    <tr>\n",
       "      <td>4</td>\n",
       "      <td>Naive Bayes</td>\n",
       "      <td>0.972</td>\n",
       "      <td>0.962</td>\n",
       "      <td>0.965</td>\n",
       "      <td>0.993</td>\n",
       "      <td>0.979</td>\n",
       "      <td>0.937</td>\n",
       "      <td>0.936</td>\n",
       "      <td>0.982</td>\n",
       "    </tr>\n",
       "    <tr>\n",
       "      <td>5</td>\n",
       "      <td>Logistic Regression</td>\n",
       "      <td>1.000</td>\n",
       "      <td>1.000</td>\n",
       "      <td>1.000</td>\n",
       "      <td>1.000</td>\n",
       "      <td>1.000</td>\n",
       "      <td>1.000</td>\n",
       "      <td>1.000</td>\n",
       "      <td>0.000</td>\n",
       "    </tr>\n",
       "    <tr>\n",
       "      <td>6</td>\n",
       "      <td>SVC</td>\n",
       "      <td>0.995</td>\n",
       "      <td>0.997</td>\n",
       "      <td>1.000</td>\n",
       "      <td>0.993</td>\n",
       "      <td>0.996</td>\n",
       "      <td>0.989</td>\n",
       "      <td>0.989</td>\n",
       "      <td>0.164</td>\n",
       "    </tr>\n",
       "    <tr>\n",
       "      <td>7</td>\n",
       "      <td>LDA</td>\n",
       "      <td>0.972</td>\n",
       "      <td>0.960</td>\n",
       "      <td>0.958</td>\n",
       "      <td>1.000</td>\n",
       "      <td>0.978</td>\n",
       "      <td>0.939</td>\n",
       "      <td>0.937</td>\n",
       "      <td>0.982</td>\n",
       "    </tr>\n",
       "    <tr>\n",
       "      <td>8</td>\n",
       "      <td>Voting Classifier</td>\n",
       "      <td>1.000</td>\n",
       "      <td>1.000</td>\n",
       "      <td>1.000</td>\n",
       "      <td>1.000</td>\n",
       "      <td>1.000</td>\n",
       "      <td>1.000</td>\n",
       "      <td>1.000</td>\n",
       "      <td>0.000</td>\n",
       "    </tr>\n",
       "  </tbody>\n",
       "</table>\n",
       "</div>"
      ],
      "text/plain": [
       "              ML Model  Accuracy  ROC score  Precision  Recall  F1-Score  \\\n",
       "0             AdaBoost     1.000      1.000      1.000   1.000     1.000   \n",
       "1        Random FOrest     1.000      1.000      1.000   1.000     1.000   \n",
       "2        Decision Tree     1.000      1.000      1.000   1.000     1.000   \n",
       "3                  KNN     0.953      0.941      0.951   0.978     0.964   \n",
       "4          Naive Bayes     0.972      0.962      0.965   0.993     0.979   \n",
       "5  Logistic Regression     1.000      1.000      1.000   1.000     1.000   \n",
       "6                  SVC     0.995      0.997      1.000   0.993     0.996   \n",
       "7                  LDA     0.972      0.960      0.958   1.000     0.978   \n",
       "8    Voting Classifier     1.000      1.000      1.000   1.000     1.000   \n",
       "\n",
       "     MCC  Kappa Score  Log Loss  \n",
       "0  1.000        1.000     0.000  \n",
       "1  1.000        1.000     0.000  \n",
       "2  1.000        1.000     0.000  \n",
       "3  0.895        0.894     1.637  \n",
       "4  0.937        0.936     0.982  \n",
       "5  1.000        1.000     0.000  \n",
       "6  0.989        0.989     0.164  \n",
       "7  0.939        0.937     0.982  \n",
       "8  1.000        1.000     0.000  "
      ]
     },
     "execution_count": 84,
     "metadata": {},
     "output_type": "execute_result"
    }
   ],
   "source": [
    "result"
   ]
  },
  {
   "cell_type": "code",
   "execution_count": 85,
   "metadata": {},
   "outputs": [
    {
     "data": {
      "text/plain": [
       "['Model/model_toddler_mas.sav']"
      ]
     },
     "execution_count": 85,
     "metadata": {},
     "output_type": "execute_result"
    }
   ],
   "source": [
    "import joblib\n",
    "filename = 'Model/model_toddler_mas.sav'\n",
    "joblib.dump(rf, filename)"
   ]
  },
  {
   "cell_type": "markdown",
   "metadata": {},
   "source": [
    "# Normalizer"
   ]
  },
  {
   "cell_type": "code",
   "execution_count": 86,
   "metadata": {},
   "outputs": [],
   "source": [
    "X = data.drop([\"Class/ASD Traits \"],axis =1)\n",
    "y = data[\"Class/ASD Traits \"]"
   ]
  },
  {
   "cell_type": "code",
   "execution_count": 87,
   "metadata": {},
   "outputs": [],
   "source": [
    "from sklearn.preprocessing import Normalizer\n",
    "transformer = Normalizer()\n",
    "X_new = transformer.fit_transform(X)"
   ]
  },
  {
   "cell_type": "code",
   "execution_count": 88,
   "metadata": {},
   "outputs": [
    {
     "data": {
      "text/plain": [
       "((843, 17), (843,), (211, 17), (211,))"
      ]
     },
     "execution_count": 88,
     "metadata": {},
     "output_type": "execute_result"
    }
   ],
   "source": [
    "from sklearn.model_selection import train_test_split\n",
    "\n",
    "X_train, X_test, y_train, y_test = train_test_split(X_new, y, test_size = 0.2, random_state = 42)\n",
    "X_train.shape, y_train.shape, X_test.shape, y_test.shape"
   ]
  },
  {
   "cell_type": "markdown",
   "metadata": {},
   "source": [
    "# AdaBoost Classifier"
   ]
  },
  {
   "cell_type": "code",
   "execution_count": 89,
   "metadata": {},
   "outputs": [],
   "source": [
    "from sklearn.ensemble import AdaBoostClassifier\n",
    "\n",
    "# instantiate the model \n",
    "ab = AdaBoostClassifier(n_estimators=100, random_state=0)\n",
    "\n",
    "# fit the model \n",
    "ab.fit(X_train, y_train)\n",
    "\n",
    "y_pred = ab.predict(X_test)\n",
    "y_prob = ab.predict_proba(X_test)\n",
    "\n",
    "ab_acc_d = accuracy_score(y_pred, y_test)\n",
    "ab_roc_d = roc_auc_score(y_pred, y_test)\n",
    "ab_prec_d = precision_score(y_pred, y_test)\n",
    "ab_rec_d = recall_score(y_pred, y_test)\n",
    "ab_f1_d = f1_score(y_pred, y_test)\n",
    "ab_mcc_d = matthews_corrcoef(y_pred, y_test)\n",
    "ab_kap_d = cohen_kappa_score(y_pred, y_test)\n",
    "ab_log_d = log_loss(y_pred, y_test)"
   ]
  },
  {
   "cell_type": "code",
   "execution_count": 90,
   "metadata": {},
   "outputs": [],
   "source": [
    "storeResults3('AdaBoost',ab_acc_d,ab_roc_d,ab_prec_d,ab_rec_d,ab_f1_d,ab_mcc_d,ab_kap_d,ab_log_d)"
   ]
  },
  {
   "cell_type": "markdown",
   "metadata": {},
   "source": [
    "# Random FOrest"
   ]
  },
  {
   "cell_type": "code",
   "execution_count": 91,
   "metadata": {},
   "outputs": [],
   "source": [
    "from sklearn.ensemble import RandomForestClassifier\n",
    "\n",
    "# instantiate the model \n",
    "rf = RandomForestClassifier(n_estimators=100, random_state=0)\n",
    "\n",
    "# fit the model \n",
    "rf.fit(X_train, y_train)\n",
    "\n",
    "y_pred = rf.predict(X_test)\n",
    "y_prob = rf.predict_proba(X_test)\n",
    "\n",
    "rf_acc_d = accuracy_score(y_pred, y_test)\n",
    "rf_roc_d = roc_auc_score(y_pred, y_test)\n",
    "rf_prec_d = precision_score(y_pred, y_test)\n",
    "rf_rec_d = recall_score(y_pred, y_test)\n",
    "rf_f1_d = f1_score(y_pred, y_test)\n",
    "rf_mcc_d = matthews_corrcoef(y_pred, y_test)\n",
    "rf_kap_d = cohen_kappa_score(y_pred, y_test)\n",
    "rf_log_d = log_loss(y_pred, y_test)"
   ]
  },
  {
   "cell_type": "code",
   "execution_count": 92,
   "metadata": {},
   "outputs": [],
   "source": [
    "storeResults3('Random Forest',rf_acc_d,rf_roc_d,rf_prec_d,rf_rec_d,rf_f1_d,rf_mcc_d,rf_kap_d,rf_log_d)"
   ]
  },
  {
   "cell_type": "markdown",
   "metadata": {},
   "source": [
    "# Decision Tree"
   ]
  },
  {
   "cell_type": "code",
   "execution_count": 93,
   "metadata": {},
   "outputs": [],
   "source": [
    "from sklearn.tree import DecisionTreeClassifier\n",
    "\n",
    "# instantiate the model \n",
    "tree = DecisionTreeClassifier(max_depth=30)\n",
    "\n",
    "# fit the model \n",
    "tree.fit(X_train, y_train)\n",
    "\n",
    "y_pred = tree.predict(X_test)\n",
    "y_prob = tree.predict_proba(X_test)\n",
    "\n",
    "dt_acc_d = accuracy_score(y_pred, y_test)\n",
    "dt_roc_d = roc_auc_score(y_pred, y_test)\n",
    "dt_prec_d = precision_score(y_pred, y_test)\n",
    "dt_rec_d = recall_score(y_pred, y_test)\n",
    "dt_f1_d = f1_score(y_pred, y_test)\n",
    "dt_mcc_d = matthews_corrcoef(y_pred, y_test)\n",
    "dt_kap_d = cohen_kappa_score(y_pred, y_test)\n",
    "dt_log_d = log_loss(y_pred, y_test)"
   ]
  },
  {
   "cell_type": "code",
   "execution_count": 94,
   "metadata": {},
   "outputs": [],
   "source": [
    "storeResults3('Decision Tree',dt_acc_d,dt_roc_d,dt_prec_d,dt_rec_d,dt_f1_d,dt_mcc_d,dt_kap_d,dt_log_d)"
   ]
  },
  {
   "cell_type": "markdown",
   "metadata": {},
   "source": [
    "# KNN"
   ]
  },
  {
   "cell_type": "code",
   "execution_count": 95,
   "metadata": {},
   "outputs": [],
   "source": [
    "from sklearn.neighbors import KNeighborsClassifier\n",
    "#from sklearn.pipeline import Pipeline\n",
    "\n",
    "# instantiate the model\n",
    "knn = KNeighborsClassifier(n_neighbors=3)\n",
    "\n",
    "# fit the model \n",
    "knn.fit(X_train,y_train)\n",
    "\n",
    "y_pred = knn.predict(X_test)\n",
    "y_prob = knn.predict_proba(X_test)\n",
    "\n",
    "knn_acc_d = accuracy_score(y_pred, y_test)\n",
    "knn_roc_d = roc_auc_score(y_pred, y_test)\n",
    "knn_prec_d = precision_score(y_pred, y_test)\n",
    "knn_rec_d = recall_score(y_pred, y_test)\n",
    "knn_f1_d = f1_score(y_pred, y_test)\n",
    "knn_mcc_d = matthews_corrcoef(y_pred, y_test)\n",
    "knn_kap_d = cohen_kappa_score(y_pred, y_test)\n",
    "knn_log_d = log_loss(y_pred, y_test)"
   ]
  },
  {
   "cell_type": "code",
   "execution_count": 96,
   "metadata": {},
   "outputs": [],
   "source": [
    "storeResults3('KNN',knn_acc_d,knn_roc_d,knn_prec_d,knn_rec_d,knn_f1_d,knn_mcc_d,knn_kap_d,knn_log_d)"
   ]
  },
  {
   "cell_type": "markdown",
   "metadata": {},
   "source": [
    "# Naive Bayes"
   ]
  },
  {
   "cell_type": "code",
   "execution_count": 97,
   "metadata": {},
   "outputs": [],
   "source": [
    "from sklearn.naive_bayes import GaussianNB\n",
    "#from sklearn.pipeline import Pipeline\n",
    "\n",
    "# instantiate the model\n",
    "nb=  GaussianNB()\n",
    "\n",
    "# fit the model \n",
    "nb.fit(X_train,y_train)\n",
    "\n",
    "y_pred = nb.predict(X_test)\n",
    "y_prob = nb.predict_proba(X_test)\n",
    "\n",
    "nb_acc_d = accuracy_score(y_pred, y_test)\n",
    "nb_roc_d = roc_auc_score(y_pred, y_test)\n",
    "nb_prec_d = precision_score(y_pred, y_test)\n",
    "nb_rec_d = recall_score(y_pred, y_test)\n",
    "nb_f1_d = f1_score(y_pred, y_test)\n",
    "nb_mcc_d = matthews_corrcoef(y_pred, y_test)\n",
    "nb_kap_d = cohen_kappa_score(y_pred, y_test)\n",
    "nb_log_d = log_loss(y_pred, y_test)"
   ]
  },
  {
   "cell_type": "code",
   "execution_count": 98,
   "metadata": {},
   "outputs": [],
   "source": [
    "storeResults3('Naive Bayes',nb_acc_d,nb_roc_d,nb_prec_d,nb_rec_d,nb_f1_d,nb_mcc_d,nb_kap_d,nb_log_d)"
   ]
  },
  {
   "cell_type": "markdown",
   "metadata": {},
   "source": [
    "# Logistic Regression"
   ]
  },
  {
   "cell_type": "code",
   "execution_count": 99,
   "metadata": {},
   "outputs": [],
   "source": [
    "# Logistic Regression model \n",
    "from sklearn.linear_model import LogisticRegression\n",
    "#from sklearn.pipeline import Pipeline\n",
    "\n",
    "# instantiate the model\n",
    "log = LogisticRegression()\n",
    "\n",
    "# fit the model \n",
    "log.fit(X_train,y_train)\n",
    "\n",
    "y_pred = log.predict(X_test)\n",
    "y_prob = log.predict_proba(X_test)\n",
    "\n",
    "lr_acc_d = accuracy_score(y_pred, y_test)\n",
    "lr_roc_d = roc_auc_score(y_pred, y_test)\n",
    "lr_prec_d = precision_score(y_pred, y_test)\n",
    "lr_rec_d = recall_score(y_pred, y_test)\n",
    "lr_f1_d = f1_score(y_pred, y_test)\n",
    "lr_mcc_d = matthews_corrcoef(y_pred, y_test)\n",
    "lr_kap_d = cohen_kappa_score(y_pred, y_test)\n",
    "lr_log_d = log_loss(y_pred, y_test)"
   ]
  },
  {
   "cell_type": "code",
   "execution_count": 100,
   "metadata": {},
   "outputs": [],
   "source": [
    "storeResults3('Logistic Regression',lr_acc_d,lr_roc_d,lr_prec_d,lr_rec_d,lr_f1_d,lr_mcc_d,lr_kap_d,lr_log_d)"
   ]
  },
  {
   "cell_type": "markdown",
   "metadata": {},
   "source": [
    "# SVC"
   ]
  },
  {
   "cell_type": "code",
   "execution_count": 101,
   "metadata": {},
   "outputs": [],
   "source": [
    "from sklearn.svm import SVC\n",
    "svc = SVC()\n",
    "\n",
    "# fitting the model for grid search\n",
    "svc.fit(X_train, y_train)\n",
    "\n",
    "y_pred = svc.predict(X_test)\n",
    "#y_prob = svc.predict_proba(X_test)\n",
    "\n",
    "svc_acc_d = accuracy_score(y_pred, y_test)\n",
    "svc_roc_d = roc_auc_score(y_pred, y_test)\n",
    "svc_prec_d = precision_score(y_pred, y_test)\n",
    "svc_rec_d = recall_score(y_pred, y_test)\n",
    "svc_f1_d = f1_score(y_pred, y_test)\n",
    "svc_mcc_d = matthews_corrcoef(y_pred, y_test)\n",
    "svc_kap_d = cohen_kappa_score(y_pred, y_test)\n",
    "svc_log_d = log_loss(y_pred, y_test)"
   ]
  },
  {
   "cell_type": "code",
   "execution_count": 102,
   "metadata": {},
   "outputs": [],
   "source": [
    "storeResults3('SVC',svc_acc_d,svc_roc_d,svc_prec_d,svc_rec_d,svc_f1_d,svc_mcc_d,svc_kap_d,svc_log_d)"
   ]
  },
  {
   "cell_type": "markdown",
   "metadata": {},
   "source": [
    "# LDA"
   ]
  },
  {
   "cell_type": "code",
   "execution_count": 103,
   "metadata": {},
   "outputs": [],
   "source": [
    "from sklearn.discriminant_analysis import LinearDiscriminantAnalysis\n",
    "\n",
    "clf = LinearDiscriminantAnalysis()\n",
    "\n",
    "# fitting the model for grid search\n",
    "clf.fit(X_train, y_train)\n",
    "\n",
    "y_pred = clf.predict(X_test)\n",
    "#y_prob = svc.predict_proba(X_test)\n",
    "\n",
    "lda_acc_d = accuracy_score(y_pred, y_test)\n",
    "lda_roc_d = roc_auc_score(y_pred, y_test)\n",
    "lda_prec_d = precision_score(y_pred, y_test)\n",
    "lda_rec_d = recall_score(y_pred, y_test)\n",
    "lda_f1_d = f1_score(y_pred, y_test)\n",
    "lda_mcc_d = matthews_corrcoef(y_pred, y_test)\n",
    "lda_kap_d = cohen_kappa_score(y_pred, y_test)\n",
    "lda_log_d = log_loss(y_pred, y_test)"
   ]
  },
  {
   "cell_type": "code",
   "execution_count": 104,
   "metadata": {},
   "outputs": [],
   "source": [
    "storeResults3('LDA',lda_acc_d,lda_roc_d,lda_prec_d,lda_rec_d,lda_f1_d,lda_mcc_d,lda_kap_d,lda_log_d)"
   ]
  },
  {
   "cell_type": "markdown",
   "metadata": {},
   "source": [
    "# Voting Classifier"
   ]
  },
  {
   "cell_type": "code",
   "execution_count": 105,
   "metadata": {},
   "outputs": [],
   "source": [
    "from sklearn.tree import DecisionTreeClassifier\n",
    "from sklearn.ensemble import VotingClassifier\n",
    "clf1 = AdaBoostClassifier(n_estimators=100, random_state=0)\n",
    "clf2 = RandomForestClassifier(n_estimators=100, random_state=0)\n",
    "clf3 = DecisionTreeClassifier(max_depth=30)\n",
    "eclf1 = VotingClassifier(estimators=[('ab', clf1), ('rf', clf2), ('dt', clf3)], voting='soft')\n",
    "eclf1.fit(X_train, y_train)\n",
    "y_pred = eclf1.predict(X_test)\n",
    "\n",
    "vot_acc_d = accuracy_score(y_pred, y_test)\n",
    "vot_roc_d = roc_auc_score(y_pred, y_test)\n",
    "vot_prec_d = precision_score(y_pred, y_test)\n",
    "vot_rec_d = recall_score(y_pred, y_test)\n",
    "vot_f1_d = f1_score(y_pred, y_test)\n",
    "vot_mcc_d = matthews_corrcoef(y_pred, y_test)\n",
    "vot_kap_d = cohen_kappa_score(y_pred, y_test)\n",
    "vot_log_d = log_loss(y_pred, y_test)\n",
    "\n",
    "\n",
    "storeResults3('Voting Classifier',vot_acc_d,vot_roc_d,vot_prec_d,vot_rec_d,vot_f1_d,vot_mcc_d,vot_kap_d,vot_log_d)"
   ]
  },
  {
   "cell_type": "code",
   "execution_count": 106,
   "metadata": {},
   "outputs": [],
   "source": [
    "#creating dataframe\n",
    "result = pd.DataFrame({ 'ML Model' : ML_Model3,\n",
    "                        'Accuracy' : accuracy3,\n",
    "                        'ROC score' : roc3,\n",
    "                        'Precision': precision3,\n",
    "                        'Recall'   : recall3,\n",
    "                        'F1-Score': f1_score3,\n",
    "                        'MCC' : mcc3,\n",
    "                        'Kappa Score' : kappa3,\n",
    "                       'Log Loss' : log3\n",
    "                      })"
   ]
  },
  {
   "cell_type": "code",
   "execution_count": 107,
   "metadata": {},
   "outputs": [
    {
     "data": {
      "text/html": [
       "<div>\n",
       "<style scoped>\n",
       "    .dataframe tbody tr th:only-of-type {\n",
       "        vertical-align: middle;\n",
       "    }\n",
       "\n",
       "    .dataframe tbody tr th {\n",
       "        vertical-align: top;\n",
       "    }\n",
       "\n",
       "    .dataframe thead th {\n",
       "        text-align: right;\n",
       "    }\n",
       "</style>\n",
       "<table border=\"1\" class=\"dataframe\">\n",
       "  <thead>\n",
       "    <tr style=\"text-align: right;\">\n",
       "      <th></th>\n",
       "      <th>ML Model</th>\n",
       "      <th>Accuracy</th>\n",
       "      <th>ROC score</th>\n",
       "      <th>Precision</th>\n",
       "      <th>Recall</th>\n",
       "      <th>F1-Score</th>\n",
       "      <th>MCC</th>\n",
       "      <th>Kappa Score</th>\n",
       "      <th>Log Loss</th>\n",
       "    </tr>\n",
       "  </thead>\n",
       "  <tbody>\n",
       "    <tr>\n",
       "      <td>0</td>\n",
       "      <td>AdaBoost</td>\n",
       "      <td>0.995</td>\n",
       "      <td>0.993</td>\n",
       "      <td>0.993</td>\n",
       "      <td>1.000</td>\n",
       "      <td>0.996</td>\n",
       "      <td>0.989</td>\n",
       "      <td>0.989</td>\n",
       "      <td>0.164</td>\n",
       "    </tr>\n",
       "    <tr>\n",
       "      <td>1</td>\n",
       "      <td>Random Forest</td>\n",
       "      <td>0.995</td>\n",
       "      <td>0.997</td>\n",
       "      <td>1.000</td>\n",
       "      <td>0.993</td>\n",
       "      <td>0.996</td>\n",
       "      <td>0.989</td>\n",
       "      <td>0.989</td>\n",
       "      <td>0.164</td>\n",
       "    </tr>\n",
       "    <tr>\n",
       "      <td>2</td>\n",
       "      <td>Decision Tree</td>\n",
       "      <td>0.991</td>\n",
       "      <td>0.989</td>\n",
       "      <td>0.993</td>\n",
       "      <td>0.993</td>\n",
       "      <td>0.993</td>\n",
       "      <td>0.978</td>\n",
       "      <td>0.978</td>\n",
       "      <td>0.327</td>\n",
       "    </tr>\n",
       "    <tr>\n",
       "      <td>3</td>\n",
       "      <td>KNN</td>\n",
       "      <td>0.981</td>\n",
       "      <td>0.975</td>\n",
       "      <td>0.979</td>\n",
       "      <td>0.993</td>\n",
       "      <td>0.986</td>\n",
       "      <td>0.957</td>\n",
       "      <td>0.957</td>\n",
       "      <td>0.655</td>\n",
       "    </tr>\n",
       "    <tr>\n",
       "      <td>4</td>\n",
       "      <td>Naive Bayes</td>\n",
       "      <td>0.905</td>\n",
       "      <td>0.887</td>\n",
       "      <td>0.901</td>\n",
       "      <td>0.955</td>\n",
       "      <td>0.928</td>\n",
       "      <td>0.794</td>\n",
       "      <td>0.791</td>\n",
       "      <td>3.274</td>\n",
       "    </tr>\n",
       "    <tr>\n",
       "      <td>5</td>\n",
       "      <td>Logistic Regression</td>\n",
       "      <td>0.953</td>\n",
       "      <td>0.967</td>\n",
       "      <td>1.000</td>\n",
       "      <td>0.934</td>\n",
       "      <td>0.966</td>\n",
       "      <td>0.894</td>\n",
       "      <td>0.888</td>\n",
       "      <td>1.637</td>\n",
       "    </tr>\n",
       "    <tr>\n",
       "      <td>6</td>\n",
       "      <td>SVC</td>\n",
       "      <td>0.967</td>\n",
       "      <td>0.956</td>\n",
       "      <td>0.958</td>\n",
       "      <td>0.993</td>\n",
       "      <td>0.975</td>\n",
       "      <td>0.927</td>\n",
       "      <td>0.926</td>\n",
       "      <td>1.146</td>\n",
       "    </tr>\n",
       "    <tr>\n",
       "      <td>7</td>\n",
       "      <td>LDA</td>\n",
       "      <td>0.976</td>\n",
       "      <td>0.975</td>\n",
       "      <td>0.986</td>\n",
       "      <td>0.979</td>\n",
       "      <td>0.982</td>\n",
       "      <td>0.946</td>\n",
       "      <td>0.946</td>\n",
       "      <td>0.818</td>\n",
       "    </tr>\n",
       "    <tr>\n",
       "      <td>8</td>\n",
       "      <td>Voting Classifier</td>\n",
       "      <td>0.991</td>\n",
       "      <td>0.989</td>\n",
       "      <td>0.993</td>\n",
       "      <td>0.993</td>\n",
       "      <td>0.993</td>\n",
       "      <td>0.978</td>\n",
       "      <td>0.978</td>\n",
       "      <td>0.327</td>\n",
       "    </tr>\n",
       "  </tbody>\n",
       "</table>\n",
       "</div>"
      ],
      "text/plain": [
       "              ML Model  Accuracy  ROC score  Precision  Recall  F1-Score  \\\n",
       "0             AdaBoost     0.995      0.993      0.993   1.000     0.996   \n",
       "1        Random Forest     0.995      0.997      1.000   0.993     0.996   \n",
       "2        Decision Tree     0.991      0.989      0.993   0.993     0.993   \n",
       "3                  KNN     0.981      0.975      0.979   0.993     0.986   \n",
       "4          Naive Bayes     0.905      0.887      0.901   0.955     0.928   \n",
       "5  Logistic Regression     0.953      0.967      1.000   0.934     0.966   \n",
       "6                  SVC     0.967      0.956      0.958   0.993     0.975   \n",
       "7                  LDA     0.976      0.975      0.986   0.979     0.982   \n",
       "8    Voting Classifier     0.991      0.989      0.993   0.993     0.993   \n",
       "\n",
       "     MCC  Kappa Score  Log Loss  \n",
       "0  0.989        0.989     0.164  \n",
       "1  0.989        0.989     0.164  \n",
       "2  0.978        0.978     0.327  \n",
       "3  0.957        0.957     0.655  \n",
       "4  0.794        0.791     3.274  \n",
       "5  0.894        0.888     1.637  \n",
       "6  0.927        0.926     1.146  \n",
       "7  0.946        0.946     0.818  \n",
       "8  0.978        0.978     0.327  "
      ]
     },
     "execution_count": 107,
     "metadata": {},
     "output_type": "execute_result"
    }
   ],
   "source": [
    "result"
   ]
  },
  {
   "cell_type": "code",
   "execution_count": 108,
   "metadata": {},
   "outputs": [
    {
     "data": {
      "text/plain": [
       "['Model/model_toddler_norm.sav']"
      ]
     },
     "execution_count": 108,
     "metadata": {},
     "output_type": "execute_result"
    }
   ],
   "source": [
    "import joblib\n",
    "filename = 'Model/model_toddler_norm.sav'\n",
    "joblib.dump(ab, filename)"
   ]
  },
  {
   "cell_type": "markdown",
   "metadata": {},
   "source": [
    "# Graph"
   ]
  },
  {
   "cell_type": "code",
   "execution_count": 109,
   "metadata": {},
   "outputs": [],
   "source": [
    "classifier = ML_Model\n",
    "y_pos = np.arange(len(classifier))"
   ]
  },
  {
   "cell_type": "markdown",
   "metadata": {},
   "source": [
    "# QT"
   ]
  },
  {
   "cell_type": "code",
   "execution_count": 110,
   "metadata": {},
   "outputs": [
    {
     "data": {
      "image/png": "[encoded data removed]",
      "text/plain": [
       "<Figure size 432x288 with 1 Axes>"
      ]
     },
     "metadata": {
      "needs_background": "light"
     },
     "output_type": "display_data"
    }
   ],
   "source": [
    "import matplotlib.pyplot as plt2\n",
    "plt2.barh(y_pos, accuracy, align='center', alpha=0.5,color='blue')\n",
    "plt2.yticks(y_pos, classifier)\n",
    "plt2.xlabel('Accuracy Score')\n",
    "plt2.title('Classification Performance')\n",
    "plt2.show()"
   ]
  },
  {
   "cell_type": "code",
   "execution_count": 111,
   "metadata": {},
   "outputs": [
    {
     "data": {
      "image/png": "[encoded data removed]",
      "text/plain": [
       "<Figure size 432x288 with 1 Axes>"
      ]
     },
     "metadata": {
      "needs_background": "light"
     },
     "output_type": "display_data"
    }
   ],
   "source": [
    "plt2.barh(y_pos, roc, align='center', alpha=0.5,color='green')\n",
    "plt2.yticks(y_pos, classifier)\n",
    "plt2.xlabel('ROC Score')\n",
    "plt2.title('Classification Performance')\n",
    "plt2.show()"
   ]
  },
  {
   "cell_type": "code",
   "execution_count": 112,
   "metadata": {},
   "outputs": [
    {
     "data": {
      "image/png": "[encoded data removed]",
      "text/plain": [
       "<Figure size 432x288 with 1 Axes>"
      ]
     },
     "metadata": {
      "needs_background": "light"
     },
     "output_type": "display_data"
    }
   ],
   "source": [
    "plt2.barh(y_pos, precision, align='center', alpha=0.5,color='red')\n",
    "plt2.yticks(y_pos, classifier)\n",
    "plt2.xlabel('Precision Score')\n",
    "plt2.title('Classification Performance')\n",
    "plt2.show()"
   ]
  },
  {
   "cell_type": "code",
   "execution_count": 113,
   "metadata": {},
   "outputs": [
    {
     "data": {
      "image/png": "[encoded data removed]",
      "text/plain": [
       "<Figure size 432x288 with 1 Axes>"
      ]
     },
     "metadata": {
      "needs_background": "light"
     },
     "output_type": "display_data"
    }
   ],
   "source": [
    "plt2.barh(y_pos, recall, align='center', alpha=0.5,color='cyan')\n",
    "plt2.yticks(y_pos, classifier)\n",
    "plt2.xlabel('Recall Score')\n",
    "plt2.title('Classification Performance')\n",
    "plt2.show()"
   ]
  },
  {
   "cell_type": "code",
   "execution_count": 114,
   "metadata": {},
   "outputs": [
    {
     "data": {
      "image/png": "[encoded data removed]",
      "text/plain": [
       "<Figure size 432x288 with 1 Axes>"
      ]
     },
     "metadata": {
      "needs_background": "light"
     },
     "output_type": "display_data"
    }
   ],
   "source": [
    "plt2.barh(y_pos, f1_scorea, align='center', alpha=0.5,color='magenta')\n",
    "plt2.yticks(y_pos, classifier)\n",
    "plt2.xlabel('F1 Score')\n",
    "plt2.title('Classification Performance')\n",
    "plt2.show()"
   ]
  },
  {
   "cell_type": "code",
   "execution_count": 115,
   "metadata": {},
   "outputs": [
    {
     "data": {
      "image/png": "[encoded data removed]",
      "text/plain": [
       "<Figure size 432x288 with 1 Axes>"
      ]
     },
     "metadata": {
      "needs_background": "light"
     },
     "output_type": "display_data"
    }
   ],
   "source": [
    "plt2.barh(y_pos, mcc, align='center', alpha=0.5,color='yellow')\n",
    "plt2.yticks(y_pos, classifier)\n",
    "plt2.xlabel('MCC Score')\n",
    "plt2.title('Classification Performance')\n",
    "plt2.show()"
   ]
  },
  {
   "cell_type": "code",
   "execution_count": 116,
   "metadata": {},
   "outputs": [
    {
     "data": {
      "image/png": "[encoded data removed]",
      "text/plain": [
       "<Figure size 432x288 with 1 Axes>"
      ]
     },
     "metadata": {
      "needs_background": "light"
     },
     "output_type": "display_data"
    }
   ],
   "source": [
    "plt2.barh(y_pos, kappa, align='center', alpha=0.5,color='black')\n",
    "plt2.yticks(y_pos, classifier)\n",
    "plt2.xlabel('Kappa Score')\n",
    "plt2.title('Classification Performance')\n",
    "plt2.show()"
   ]
  },
  {
   "cell_type": "code",
   "execution_count": 117,
   "metadata": {},
   "outputs": [
    {
     "data": {
      "image/png": "[encoded data removed]",
      "text/plain": [
       "<Figure size 432x288 with 1 Axes>"
      ]
     },
     "metadata": {
      "needs_background": "light"
     },
     "output_type": "display_data"
    }
   ],
   "source": [
    "plt2.barh(y_pos, loga, align='center', alpha=0.5,color='pink')\n",
    "plt2.yticks(y_pos, classifier)\n",
    "plt2.xlabel('Log Loss')\n",
    "plt2.title('Classification Performance')\n",
    "plt2.show()"
   ]
  },
  {
   "cell_type": "markdown",
   "metadata": {},
   "source": [
    "# PT"
   ]
  },
  {
   "cell_type": "code",
   "execution_count": 118,
   "metadata": {},
   "outputs": [
    {
     "data": {
      "image/png": "[encoded data removed]",
      "text/plain": [
       "<Figure size 432x288 with 1 Axes>"
      ]
     },
     "metadata": {
      "needs_background": "light"
     },
     "output_type": "display_data"
    }
   ],
   "source": [
    "plt2.barh(y_pos, accuracy1, align='center', alpha=0.5,color='blue')\n",
    "plt2.yticks(y_pos, classifier)\n",
    "plt2.xlabel('Accuracy Score')\n",
    "plt2.title('Classification Performance')\n",
    "plt2.show()"
   ]
  },
  {
   "cell_type": "code",
   "execution_count": 119,
   "metadata": {},
   "outputs": [
    {
     "data": {
      "image/png": "[encoded data removed]",
      "text/plain": [
       "<Figure size 432x288 with 1 Axes>"
      ]
     },
     "metadata": {
      "needs_background": "light"
     },
     "output_type": "display_data"
    }
   ],
   "source": [
    "plt2.barh(y_pos, roc1, align='center', alpha=0.5,color='green')\n",
    "plt2.yticks(y_pos, classifier)\n",
    "plt2.xlabel('ROC Score')\n",
    "plt2.title('Classification Performance')\n",
    "plt2.show()"
   ]
  },
  {
   "cell_type": "code",
   "execution_count": 120,
   "metadata": {},
   "outputs": [
    {
     "data": {
      "image/png": "[encoded data removed]",
      "text/plain": [
       "<Figure size 432x288 with 1 Axes>"
      ]
     },
     "metadata": {
      "needs_background": "light"
     },
     "output_type": "display_data"
    }
   ],
   "source": [
    "plt2.barh(y_pos, precision1, align='center', alpha=0.5,color='red')\n",
    "plt2.yticks(y_pos, classifier)\n",
    "plt2.xlabel('Precision Score')\n",
    "plt2.title('Classification Performance')\n",
    "plt2.show()"
   ]
  },
  {
   "cell_type": "code",
   "execution_count": 121,
   "metadata": {},
   "outputs": [
    {
     "data": {
      "image/png": "[encoded data removed]",
      "text/plain": [
       "<Figure size 432x288 with 1 Axes>"
      ]
     },
     "metadata": {
      "needs_background": "light"
     },
     "output_type": "display_data"
    }
   ],
   "source": [
    "plt2.barh(y_pos, recall1, align='center', alpha=0.5,color='cyan')\n",
    "plt2.yticks(y_pos, classifier)\n",
    "plt2.xlabel('Recall Score')\n",
    "plt2.title('Classification Performance')\n",
    "plt2.show()"
   ]
  },
  {
   "cell_type": "code",
   "execution_count": 122,
   "metadata": {},
   "outputs": [
    {
     "data": {
      "image/png": "[encoded data removed]",
      "text/plain": [
       "<Figure size 432x288 with 1 Axes>"
      ]
     },
     "metadata": {
      "needs_background": "light"
     },
     "output_type": "display_data"
    }
   ],
   "source": [
    "plt2.barh(y_pos, f1_score1, align='center', alpha=0.5,color='magenta')\n",
    "plt2.yticks(y_pos, classifier)\n",
    "plt2.xlabel('F1 Score')\n",
    "plt2.title('Classification Performance')\n",
    "plt2.show()"
   ]
  },
  {
   "cell_type": "code",
   "execution_count": 123,
   "metadata": {},
   "outputs": [
    {
     "data": {
      "image/png": "[encoded data removed]",
      "text/plain": [
       "<Figure size 432x288 with 1 Axes>"
      ]
     },
     "metadata": {
      "needs_background": "light"
     },
     "output_type": "display_data"
    }
   ],
   "source": [
    "plt2.barh(y_pos, mcc1, align='center', alpha=0.5,color='yellow')\n",
    "plt2.yticks(y_pos, classifier)\n",
    "plt2.xlabel('MCC Score')\n",
    "plt2.title('Classification Performance')\n",
    "plt2.show()"
   ]
  },
  {
   "cell_type": "code",
   "execution_count": 124,
   "metadata": {},
   "outputs": [
    {
     "data": {
      "image/png": "[encoded data removed]",
      "text/plain": [
       "<Figure size 432x288 with 1 Axes>"
      ]
     },
     "metadata": {
      "needs_background": "light"
     },
     "output_type": "display_data"
    }
   ],
   "source": [
    "plt2.barh(y_pos, kappa1, align='center', alpha=0.5,color='black')\n",
    "plt2.yticks(y_pos, classifier)\n",
    "plt2.xlabel('Kappa Score')\n",
    "plt2.title('Classification Performance')\n",
    "plt2.show()"
   ]
  },
  {
   "cell_type": "code",
   "execution_count": 125,
   "metadata": {},
   "outputs": [
    {
     "data": {
      "image/png": "[encoded data removed]",
      "text/plain": [
       "<Figure size 432x288 with 1 Axes>"
      ]
     },
     "metadata": {
      "needs_background": "light"
     },
     "output_type": "display_data"
    }
   ],
   "source": [
    "plt2.barh(y_pos, log1, align='center', alpha=0.5,color='pink')\n",
    "plt2.yticks(y_pos, classifier)\n",
    "plt2.xlabel('Log Loss')\n",
    "plt2.title('Classification Performance')\n",
    "plt2.show()"
   ]
  },
  {
   "cell_type": "markdown",
   "metadata": {},
   "source": [
    "# MAS "
   ]
  },
  {
   "cell_type": "code",
   "execution_count": 126,
   "metadata": {},
   "outputs": [
    {
     "data": {
      "image/png": "[encoded data removed]",
      "text/plain": [
       "<Figure size 432x288 with 1 Axes>"
      ]
     },
     "metadata": {
      "needs_background": "light"
     },
     "output_type": "display_data"
    }
   ],
   "source": [
    "plt2.barh(y_pos, accuracy2, align='center', alpha=0.5,color='blue')\n",
    "plt2.yticks(y_pos, classifier)\n",
    "plt2.xlabel('Accuracy Score')\n",
    "plt2.title('Classification Performance')\n",
    "plt2.show()"
   ]
  },
  {
   "cell_type": "code",
   "execution_count": 127,
   "metadata": {},
   "outputs": [
    {
     "data": {
      "image/png": "[encoded data removed]",
      "text/plain": [
       "<Figure size 432x288 with 1 Axes>"
      ]
     },
     "metadata": {
      "needs_background": "light"
     },
     "output_type": "display_data"
    }
   ],
   "source": [
    "plt2.barh(y_pos, roc2, align='center', alpha=0.5,color='green')\n",
    "plt2.yticks(y_pos, classifier)\n",
    "plt2.xlabel('ROC Score')\n",
    "plt2.title('Classification Performance')\n",
    "plt2.show()"
   ]
  },
  {
   "cell_type": "code",
   "execution_count": 128,
   "metadata": {},
   "outputs": [
    {
     "data": {
      "image/png": "[encoded data removed]",
      "text/plain": [
       "<Figure size 432x288 with 1 Axes>"
      ]
     },
     "metadata": {
      "needs_background": "light"
     },
     "output_type": "display_data"
    }
   ],
   "source": [
    "plt2.barh(y_pos, precision2, align='center', alpha=0.5,color='red')\n",
    "plt2.yticks(y_pos, classifier)\n",
    "plt2.xlabel('Precision Score')\n",
    "plt2.title('Classification Performance')\n",
    "plt2.show()"
   ]
  },
  {
   "cell_type": "code",
   "execution_count": 129,
   "metadata": {},
   "outputs": [
    {
     "data": {
      "image/png": "[encoded data removed]",
      "text/plain": [
       "<Figure size 432x288 with 1 Axes>"
      ]
     },
     "metadata": {
      "needs_background": "light"
     },
     "output_type": "display_data"
    }
   ],
   "source": [
    "plt2.barh(y_pos, recall2, align='center', alpha=0.5,color='cyan')\n",
    "plt2.yticks(y_pos, classifier)\n",
    "plt2.xlabel('Recall Score')\n",
    "plt2.title('Classification Performance')\n",
    "plt2.show()"
   ]
  },
  {
   "cell_type": "code",
   "execution_count": 130,
   "metadata": {},
   "outputs": [
    {
     "data": {
      "image/png": "[encoded data removed]",
      "text/plain": [
       "<Figure size 432x288 with 1 Axes>"
      ]
     },
     "metadata": {
      "needs_background": "light"
     },
     "output_type": "display_data"
    }
   ],
   "source": [
    "plt2.barh(y_pos, f1_score2, align='center', alpha=0.5,color='magenta')\n",
    "plt2.yticks(y_pos, classifier)\n",
    "plt2.xlabel('F1 Score')\n",
    "plt2.title('Classification Performance')\n",
    "plt2.show()"
   ]
  },
  {
   "cell_type": "code",
   "execution_count": 131,
   "metadata": {},
   "outputs": [
    {
     "data": {
      "image/png": "[encoded data removed]",
      "text/plain": [
       "<Figure size 432x288 with 1 Axes>"
      ]
     },
     "metadata": {
      "needs_background": "light"
     },
     "output_type": "display_data"
    }
   ],
   "source": [
    "plt2.barh(y_pos, mcc2, align='center', alpha=0.5,color='yellow')\n",
    "plt2.yticks(y_pos, classifier)\n",
    "plt2.xlabel('MCC Score')\n",
    "plt2.title('Classification Performance')\n",
    "plt2.show()"
   ]
  },
  {
   "cell_type": "code",
   "execution_count": 132,
   "metadata": {},
   "outputs": [
    {
     "data": {
      "image/png": "[encoded data removed]",
      "text/plain": [
       "<Figure size 432x288 with 1 Axes>"
      ]
     },
     "metadata": {
      "needs_background": "light"
     },
     "output_type": "display_data"
    }
   ],
   "source": [
    "plt2.barh(y_pos, kappa2, align='center', alpha=0.5,color='black')\n",
    "plt2.yticks(y_pos, classifier)\n",
    "plt2.xlabel('Kappa Score')\n",
    "plt2.title('Classification Performance')\n",
    "plt2.show()"
   ]
  },
  {
   "cell_type": "code",
   "execution_count": 133,
   "metadata": {},
   "outputs": [
    {
     "data": {
      "image/png": "[encoded data removed]",
      "text/plain": [
       "<Figure size 432x288 with 1 Axes>"
      ]
     },
     "metadata": {
      "needs_background": "light"
     },
     "output_type": "display_data"
    }
   ],
   "source": [
    "plt2.barh(y_pos, log2, align='center', alpha=0.5,color='pink')\n",
    "plt2.yticks(y_pos, classifier)\n",
    "plt2.xlabel('Log Loss')\n",
    "plt2.title('Classification Performance')\n",
    "plt2.show()"
   ]
  },
  {
   "cell_type": "markdown",
   "metadata": {},
   "source": [
    "# Normalizer"
   ]
  },
  {
   "cell_type": "code",
   "execution_count": 134,
   "metadata": {},
   "outputs": [
    {
     "data": {
      "image/png": "[encoded data removed]",
      "text/plain": [
       "<Figure size 432x288 with 1 Axes>"
      ]
     },
     "metadata": {
      "needs_background": "light"
     },
     "output_type": "display_data"
    }
   ],
   "source": [
    "plt2.barh(y_pos, accuracy3, align='center', alpha=0.5,color='blue')\n",
    "plt2.yticks(y_pos, classifier)\n",
    "plt2.xlabel('Accuracy Score')\n",
    "plt2.title('Classification Performance')\n",
    "plt2.show()"
   ]
  },
  {
   "cell_type": "code",
   "execution_count": 135,
   "metadata": {},
   "outputs": [
    {
     "data": {
      "image/png": "[encoded data removed]",
      "text/plain": [
       "<Figure size 432x288 with 1 Axes>"
      ]
     },
     "metadata": {
      "needs_background": "light"
     },
     "output_type": "display_data"
    }
   ],
   "source": [
    "plt2.barh(y_pos, roc3, align='center', alpha=0.5,color='green')\n",
    "plt2.yticks(y_pos, classifier)\n",
    "plt2.xlabel('ROC Score')\n",
    "plt2.title('Classification Performance')\n",
    "plt2.show()"
   ]
  },
  {
   "cell_type": "code",
   "execution_count": 136,
   "metadata": {},
   "outputs": [
    {
     "data": {
      "image/png": "[encoded data removed]",
      "text/plain": [
       "<Figure size 432x288 with 1 Axes>"
      ]
     },
     "metadata": {
      "needs_background": "light"
     },
     "output_type": "display_data"
    }
   ],
   "source": [
    "plt2.barh(y_pos, precision3, align='center', alpha=0.5,color='red')\n",
    "plt2.yticks(y_pos, classifier)\n",
    "plt2.xlabel('Precision Score')\n",
    "plt2.title('Classification Performance')\n",
    "plt2.show()"
   ]
  },
  {
   "cell_type": "code",
   "execution_count": 137,
   "metadata": {},
   "outputs": [
    {
     "data": {
      "image/png": "[encoded data removed]",
      "text/plain": [
       "<Figure size 432x288 with 1 Axes>"
      ]
     },
     "metadata": {
      "needs_background": "light"
     },
     "output_type": "display_data"
    }
   ],
   "source": [
    "plt2.barh(y_pos, recall3, align='center', alpha=0.5,color='cyan')\n",
    "plt2.yticks(y_pos, classifier)\n",
    "plt2.xlabel('Recall Score')\n",
    "plt2.title('Classification Performance')\n",
    "plt2.show()"
   ]
  },
  {
   "cell_type": "code",
   "execution_count": 138,
   "metadata": {},
   "outputs": [
    {
     "data": {
      "image/png": "[encoded data removed]",
      "text/plain": [
       "<Figure size 432x288 with 1 Axes>"
      ]
     },
     "metadata": {
      "needs_background": "light"
     },
     "output_type": "display_data"
    }
   ],
   "source": [
    "plt2.barh(y_pos, f1_score3, align='center', alpha=0.5,color='magenta')\n",
    "plt2.yticks(y_pos, classifier)\n",
    "plt2.xlabel('F1 Score')\n",
    "plt2.title('Classification Performance')\n",
    "plt2.show()"
   ]
  },
  {
   "cell_type": "code",
   "execution_count": 139,
   "metadata": {},
   "outputs": [
    {
     "data": {
      "image/png": "[encoded data removed]",
      "text/plain": [
       "<Figure size 432x288 with 1 Axes>"
      ]
     },
     "metadata": {
      "needs_background": "light"
     },
     "output_type": "display_data"
    }
   ],
   "source": [
    "plt2.barh(y_pos, mcc3, align='center', alpha=0.5,color='yellow')\n",
    "plt2.yticks(y_pos, classifier)\n",
    "plt2.xlabel('MCC Score')\n",
    "plt2.title('Classification Performance')\n",
    "plt2.show()"
   ]
  },
  {
   "cell_type": "code",
   "execution_count": 140,
   "metadata": {},
   "outputs": [
    {
     "data": {
      "image/png": "[encoded data removed]",
      "text/plain": [
       "<Figure size 432x288 with 1 Axes>"
      ]
     },
     "metadata": {
      "needs_background": "light"
     },
     "output_type": "display_data"
    }
   ],
   "source": [
    "plt2.barh(y_pos, kappa3, align='center', alpha=0.5,color='black')\n",
    "plt2.yticks(y_pos, classifier)\n",
    "plt2.xlabel('Kappa Score')\n",
    "plt2.title('Classification Performance')\n",
    "plt2.show()"
   ]
  },
  {
   "cell_type": "code",
   "execution_count": 141,
   "metadata": {},
   "outputs": [
    {
     "data": {
      "image/png": "[encoded data removed]",
      "text/plain": [
       "<Figure size 432x288 with 1 Axes>"
      ]
     },
     "metadata": {
      "needs_background": "light"
     },
     "output_type": "display_data"
    }
   ],
   "source": [
    "plt2.barh(y_pos, log3, align='center', alpha=0.5,color='pink')\n",
    "plt2.yticks(y_pos, classifier)\n",
    "plt2.xlabel('Log Loss')\n",
    "plt2.title('Classification Performance')\n",
    "plt2.show()"
   ]
  },
  {
   "cell_type": "code",
   "execution_count": null,
   "metadata": {},
   "outputs": [],
   "source": []
  },
  {
   "cell_type": "code",
   "execution_count": null,
   "metadata": {},
   "outputs": [],
   "source": []
  },
  {
   "cell_type": "code",
   "execution_count": null,
   "metadata": {},
   "outputs": [],
   "source": []
  }
 ],
 "metadata": {
  "kernelspec": {
   "display_name": "Python 3",
   "language": "python",
   "name": "python3"
  },
  "language_info": {
   "codemirror_mode": {
    "name": "ipython",
    "version": 3
   },
   "file_extension": ".py",
   "mimetype": "text/x-python",
   "name": "python",
   "nbconvert_exporter": "python",
   "pygments_lexer": "ipython3",
   "version": "3.7.4"
  }
 },
 "nbformat": 4,
 "nbformat_minor": 2
}
